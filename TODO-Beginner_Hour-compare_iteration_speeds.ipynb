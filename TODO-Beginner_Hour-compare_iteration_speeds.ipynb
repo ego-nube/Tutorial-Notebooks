{
 "cells": [
  {
   "cell_type": "markdown",
   "id": "ad54ddc3",
   "metadata": {},
   "source": [
    "# Beginner_Hour-compare_iteration_speeds\n",
    "\n",
    "* Question from 2022-06-02\n",
    "    * Which is faster?\n",
    "        * `for` loop vs comprehension vs `map`"
   ]
  },
  {
   "cell_type": "code",
   "execution_count": null,
   "id": "786f2160",
   "metadata": {},
   "outputs": [],
   "source": []
  }
 ],
 "metadata": {
  "kernelspec": {
   "display_name": "Python (py39)",
   "language": "python",
   "name": "py39"
  },
  "language_info": {
   "codemirror_mode": {
    "name": "ipython",
    "version": 3
   },
   "file_extension": ".py",
   "mimetype": "text/x-python",
   "name": "python",
   "nbconvert_exporter": "python",
   "pygments_lexer": "ipython3",
   "version": "3.9.4"
  }
 },
 "nbformat": 4,
 "nbformat_minor": 5
}
