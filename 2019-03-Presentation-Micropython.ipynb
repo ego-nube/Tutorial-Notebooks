{
 "cells": [
  {
   "cell_type": "markdown",
   "metadata": {
    "slideshow": {
     "slide_type": "slide"
    }
   },
   "source": [
    "<img src=\"images/micropython-logo-new.jpg\" width=\"400\">\n",
    "<!-- ![micropython logo (new)](images/micropython-logo-new.jpg \"test\") -->"
   ]
  },
  {
   "cell_type": "markdown",
   "metadata": {
    "slideshow": {
     "slide_type": "slide"
    }
   },
   "source": [
    "<img src=\"images/micropython-logo-old.png\" width=\"400\">"
   ]
  },
  {
   "cell_type": "markdown",
   "metadata": {
    "slideshow": {
     "slide_type": "skip"
    }
   },
   "source": [
    "## What is it?\n",
    "\n",
    "* [“micro-ified”](http://docs.micropython.org/en/latest/library/index.html#python-standard-libraries-and-micro-libraries)\n",
    "* MicroPython-specific libraries\n",
    "    * `btree` - simple BTree database\n",
    "    * `framebuf` - Frame buffer manipulation\n",
    "    * `machine` - functions related to the hardware\n",
    "    * `micropython` - access and control MicroPython internals\n",
    "    * `network` - network configuration\n",
    "    * `ucryptolib` - cryptographic ciphers\n",
    "    * `uctypes` - access binary data in a structured way\n",
    "* ESP8266-specific library\n",
    "    * `esp`\n",
    "* [Optimizations](http://docs.micropython.org/en/latest/reference/speed_python.html)\n",
    "* [Limitations](http://docs.micropython.org/en/latest/reference/constrained.html#micropython-on-microcontrollers)"
   ]
  },
  {
   "cell_type": "markdown",
   "metadata": {
    "slideshow": {
     "slide_type": "slide"
    }
   },
   "source": [
    "## What does it run on?\n",
    "\n",
    "* [pyboard](http://docs.micropython.org/en/latest/pyboard/quickref.html)\n",
    "* [ESP8266](https://en.wikipedia.org/wiki/ESP8266)\n",
    "* [ESP32](https://en.wikipedia.org/wiki/ESP32)\n",
    "* [WiPy/CC3200](https://pycom.io/product/wipy-3-0/)\n",
    "* [BBC:microbit](https://en.wikipedia.org/wiki/Micro_Bit)\n",
    "* [Teensy 3.x](https://www.pjrc.com/teensy/)\n",
    "\n"
   ]
  },
  {
   "cell_type": "markdown",
   "metadata": {
    "slideshow": {
     "slide_type": "slide"
    }
   },
   "source": [
    "## Pinout Diagram - Node MCU\n",
    "<img src=\"https://i.stack.imgur.com/yT4hb.png\" width=\"400\">\n",
    "\n",
    "* https://arduino.stackexchange.com/questions/56093/arduino-sketch-for-nodemcu-v1-0-esp8266-12e-has-no-error-of-compiling-but-does\n",
    "\n",
    "---"
   ]
  },
  {
   "cell_type": "code",
   "execution_count": 35,
   "metadata": {
    "slideshow": {
     "slide_type": "slide"
    }
   },
   "outputs": [
    {
     "name": "stdout",
     "output_type": "stream",
     "text": [
      "serial exception on close write failed: [Errno 5] Input/output error\n",
      "\u001b[34mConnecting to --port=/dev/ttyUSB1 --baud=115200 \u001b[0m\n",
      "\u001b[34mReady.\n",
      "\u001b[0m"
     ]
    }
   ],
   "source": [
    "%serialconnect"
   ]
  },
  {
   "cell_type": "markdown",
   "metadata": {
    "slideshow": {
     "slide_type": "fragment"
    }
   },
   "source": [
    "## Getting Connected\n",
    "\n",
    "* Obtain a terminal emulater to access REPL:\n",
    "    * Linux: `mpfshell` or `picocom /dev/ttyUSB0 -b115200`\n",
    "    * Windows: TeraTerm\n",
    "    * Mac: the built-in screen program\n",
    "* Optionally, WebREPL:\n",
    "    * `import webrepl_setup`\n",
    "\n",
    "### Find your SSID\n",
    "* `$ nmcli -f SSID,BSSID,DEVICE dev wifi`"
   ]
  },
  {
   "cell_type": "code",
   "execution_count": 36,
   "metadata": {
    "slideshow": {
     "slide_type": "slide"
    }
   },
   "outputs": [
    {
     "name": "stdout",
     "output_type": "stream",
     "text": [
      "[leftinbuffer] ['scandone']\n",
      "[leftinbuffer] ['no FiOS-8N3GB found, reconnect after 1s']\n",
      "[leftinbuffer] ['reconnect']\n",
      "[leftinbuffer] ['scandone']\n",
      "[leftinbuffer] ['no FiOS-8N3GB found, reconnect after 1s']\n",
      "[leftinbuffer] ['reconnect']\n"
     ]
    }
   ],
   "source": [
    "import network\n",
    "sta_if = network.WLAN(network.STA_IF)\n",
    "sta_if.active(True)  # activate station interface\n",
    "#sta_if.connect('<your ESSID>', '<your password>')\n",
    "if sta_if.isconnected():\n",
    "    ip_address, netmask, gateway, dns = sta_if.ifconfig()\n",
    "    print('IP: {}, netmask: {}, gateway: {}, DNS: {}'.format(*sta_if.ifconfig()))\n",
    "else:\n",
    "    'Not Connected'"
   ]
  },
  {
   "cell_type": "code",
   "execution_count": 4,
   "metadata": {
    "slideshow": {
     "slide_type": "subslide"
    }
   },
   "outputs": [
    {
     "name": "stdout",
     "output_type": "stream",
     "text": [
      "True\n",
      "bcn 0\n",
      "del if1\n",
      "pm open,type:2 0\n",
      "mode : sta(a0:20:a6:34:99:59)\n"
     ]
    }
   ],
   "source": [
    "ap_if = network.WLAN(network.AP_IF)\n",
    "print(ap_if.active())  # Activate access point.\n",
    "ap_if.active(False)  # Disable if not using."
   ]
  },
  {
   "cell_type": "code",
   "execution_count": 5,
   "metadata": {
    "slideshow": {
     "slide_type": "subslide"
    }
   },
   "outputs": [
    {
     "name": "stdout",
     "output_type": "stream",
     "text": [
      "HTTP/1.1 200 OK\n",
      "Server: nginx/1.10.3\n",
      "Date: Wed, 06 Mar 2019 04:12:21 GMT\n",
      "Content-Type: text/html\n",
      "Content-Length: 180\n",
      "Last-Modified: Tue, 03 Dec 2013 00:16:26 GMT\n",
      "Connection: close\n",
      "Vary: Accept-Encoding\n",
      "ETag: \"529d22da-b4\"\n",
      "Accept-Ranges: bytes\n",
      "\n",
      "<!DOCTYPE html>\n",
      "<html lang=\"en\">\n",
      "    <head>\n",
      "        <title>Test</title>\n",
      "    </head>\n",
      "    <body>\n",
      "        <h1>Test</h1>\n",
      "        It's working if you can read this!\n",
      "    </body>\n",
      "</html>\n"
     ]
    }
   ],
   "source": [
    "import socket\n",
    "\n",
    "def http_get(url):\n",
    "    _, _, host, path = url.split('/', 3)\n",
    "    addr = socket.getaddrinfo(host, 80)[0][-1]\n",
    "    s = socket.socket()\n",
    "    s.connect(addr)\n",
    "    s.send(bytes('GET /%s HTTP/1.0\\r\\nHost: %s\\r\\n\\r\\n' % (path, host), 'utf8'))\n",
    "    while True:\n",
    "        data = s.recv(100)\n",
    "        if data:\n",
    "            print(str(data, 'utf8'), end='')\n",
    "        else:\n",
    "            break\n",
    "    s.close()\n",
    "\n",
    "http_get('http://micropython.org/ks/test.html')"
   ]
  },
  {
   "cell_type": "code",
   "execution_count": 6,
   "metadata": {
    "slideshow": {
     "slide_type": "subslide"
    }
   },
   "outputs": [
    {
     "name": "stderr",
     "output_type": "stream",
     "text": [
      "Traceback (most recent call last):\n",
      "  File \"<stdin>\", line 17, in <module>\n",
      "OSError: [Errno 98] EADDRINUSE\n"
     ]
    }
   ],
   "source": [
    "import machine\n",
    "pins = [machine.Pin(i, machine.Pin.IN) for i in (0, 2, 4, 5, 12, 13, 14, 15)]\n",
    "\n",
    "html = \"\"\"<!DOCTYPE html>\n",
    "<html>\n",
    "    <head> <title>ESP8266 Pins</title> </head>\n",
    "    <body> <h1>ESP8266 Pins</h1>\n",
    "        <table border=\"1\"> <tr><th>Pin</th><th>Value</th></tr> %s </table>\n",
    "    </body>\n",
    "</html>\n",
    "\"\"\"\n",
    "\n",
    "import socket\n",
    "addr = socket.getaddrinfo('0.0.0.0', 8081)[0][-1]\n",
    "\n",
    "s = socket.socket()\n",
    "s.bind(addr)\n",
    "s.listen(1)\n",
    "\n",
    "print('listening on', addr)\n",
    "\n",
    "while True:\n",
    "    cl, addr = s.accept()\n",
    "    print('client connected from', addr)\n",
    "    cl_file = cl.makefile('rwb', 0)\n",
    "    while True:\n",
    "        line = cl_file.readline()\n",
    "        if not line or line == b'\\r\\n':\n",
    "            break\n",
    "    rows = ['<tr><td>%s</td><td>%d</td></tr>' % (str(p), p.value()) for p in pins]\n",
    "    response = html % '\\n'.join(rows)\n",
    "    cl.send(response)\n",
    "    cl.close()"
   ]
  },
  {
   "cell_type": "markdown",
   "metadata": {
    "slideshow": {
     "slide_type": "slide"
    }
   },
   "source": [
    "## Micropython for Jupyter Notebook (ESP8266-specific)\n",
    "* https://github.com/goatchurchprime/jupyter_micropython_kernel/\n",
    "\n",
    "## If you get this error:\n",
    "* `ModuleNotFoundError: No module named 'prompt_toolkit.formatted_text'`\n",
    "* https://github.com/jupyter/notebook/issues/4050"
   ]
  },
  {
   "cell_type": "code",
   "execution_count": 60,
   "metadata": {
    "slideshow": {
     "slide_type": "slide"
    }
   },
   "outputs": [
    {
     "name": "stdout",
     "output_type": "stream",
     "text": [
      "serial exception on close write failed: [Errno 5] Input/output error\n",
      "\u001b[34mConnecting to --port=/dev/ttyUSB0 --baud=115200 \u001b[0m\n",
      "\u001b[34mReady.\n",
      "\u001b[0m"
     ]
    }
   ],
   "source": [
    "%serialconnect\n",
    "# May need to allow permission:\n",
    "#  sudo chmod 777 /dev/ttyUSB0\n",
    "# Could also add your user to the dialout group\n",
    "#  sudo usermod -a -G dialout your_username"
   ]
  },
  {
   "cell_type": "code",
   "execution_count": 61,
   "metadata": {
    "slideshow": {
     "slide_type": "subslide"
    }
   },
   "outputs": [
    {
     "name": "stdout",
     "output_type": "stream",
     "text": [
      "%capture [--quiet] [--QUIET] outputfilename\n",
      "    records output to a file\n",
      "\n",
      "%comment\n",
      "    print this into output\n",
      "\n",
      "%disconnect [--raw]\n",
      "    disconnects from web/serial connection\n",
      "\n",
      "%esptool [--port PORT] {erase,esp32,esp8266} [binfile]\n",
      "    commands for flashing your esp-device\n",
      "\n",
      "%fetchfile [--binary] [--print] [--quiet] [--QUIET]\n",
      "                  sourcefilename [destinationfilename]\n",
      "    fetch and save a file from the device\n",
      "\n",
      "%lsmagic\n",
      "    list magic commands\n",
      "\n",
      "%mpy-cross [--set-exe SET_EXE] [pyfile]\n",
      "    cross-compile a .py file to a .mpy file\n",
      "\n",
      "%readbytes\n",
      "    does serial.read_all()\n",
      "\n",
      "%readbytes [--binary]\n",
      "    does serial.read_all()\n",
      "\n",
      "%rebootdevice\n",
      "    reboots device\n",
      "\n",
      "%sendtofile [--append] [--mkdir] [--binary] [--execute]\n",
      "                   [--source [SOURCE]] [--quiet] [--QUIET]\n",
      "                   [destinationfilename]\n",
      "    send cell contents or file/direcectory to the device\n",
      "\n",
      "%serialconnect [--raw] [--port PORT] [--baud BAUD] [--verbose]\n",
      "    connects to a device over USB wire\n",
      "\n",
      "%socketconnect [--raw] ipnumber portnumber\n",
      "    connects to a socket of a device over wifi\n",
      "\n",
      "%suppressendcode\n",
      "    doesn't send x04 or wait to read after sending the contents of the cell\n",
      "  (assists for debugging using %writebytes and %readbytes)\n",
      "\n",
      "%websocketconnect [--raw] [--password PASSWORD] [--verbose]\n",
      "                         [websocketurl]\n",
      "    connects to the webREPL websocket of an ESP8266 over wifi\n",
      "    websocketurl defaults to ws://192.168.4.1:8266 but be sure to be connected\n",
      "\n",
      "%writebytes [--binary] [--verbose] stringtosend\n",
      "    does serial.write() of the python quoted string given\n",
      "\n",
      "%%writefile [--append] [--execute] destinationfilename\n",
      "    write contents of cell to a file\n",
      "\n"
     ]
    }
   ],
   "source": [
    "%lsmagic\n",
    "# Common commands:\n",
    "# %rebootdevice\n",
    "# %sendtofile\n",
    "# %disconnect\n",
    "# %sendtofile yourfilename.py"
   ]
  },
  {
   "cell_type": "code",
   "execution_count": 46,
   "metadata": {},
   "outputs": [
    {
     "name": "stdout",
     "output_type": "stream",
     "text": [
      "scandone\r\n"
     ]
    }
   ],
   "source": [
    "import network\n",
    "\n",
    "wlan = network.WLAN(network.STA_IF) # create station interface\n",
    "wlan.active(True)       # activate the interface\n",
    "wlan.scan()             # scan for access points\n",
    "wlan.isconnected()      # check if the station is connected to an AP\n",
    "wlan.connect('Student', 'Improving') # connect to an AP\n",
    "wlan.config('mac')      # get the interface's MAC adddress\n",
    "wlan.ifconfig()         # get the interface's IP/netmask/gw/DNS addresses\n",
    "\n",
    "ap = network.WLAN(network.AP_IF) # create access-point interface\n",
    "ap.active(True)         # activate the interface\n",
    "ap.config(essid='ESP-AP') # set the ESSID of the access point"
   ]
  },
  {
   "cell_type": "code",
   "execution_count": 63,
   "metadata": {
    "slideshow": {
     "slide_type": "slide"
    }
   },
   "outputs": [],
   "source": [
    "# Simple demo.\n",
    "\n",
    "import machine\n",
    "from machine import Pin\n",
    "import dht\n",
    "from time import sleep\n",
    "\n",
    "motion = Pin(14, Pin.IN, Pin.PULL_UP)\n",
    "light = Pin(12, Pin.IN, Pin.PULL_UP)\n",
    "hum = dht.DHT22(Pin(13))\n",
    "blue = Pin(0, Pin.OUT)\n",
    "green = Pin(4, Pin.OUT)\n",
    "red = Pin(5, Pin.OUT)"
   ]
  },
  {
   "cell_type": "code",
   "execution_count": 64,
   "metadata": {
    "slideshow": {
     "slide_type": "subslide"
    }
   },
   "outputs": [
    {
     "name": "stdout",
     "output_type": "stream",
     "text": [
      "...........................................................\u001b[34m\n",
      "\n",
      "*** Sending Ctrl-C\n",
      "\n",
      "\u001b[0m"
     ]
    },
    {
     "name": "stderr",
     "output_type": "stream",
     "text": [
      "Traceback (most recent call last):\n",
      "  File \"<stdin>\", line 24, in <module>\n",
      "  File \"<stdin>\", line 18, in main\n",
      "  File \"dht.py\", line 16, in measure\n",
      "KeyboardInterrupt: \n"
     ]
    }
   ],
   "source": [
    "def blink(led, loops=1, delay=0.25):\n",
    "     for _ in range(loops):\n",
    "         led.on()\n",
    "         sleep(delay)\n",
    "         led.off()\n",
    "         sleep(delay)\n",
    "\n",
    "def main():\n",
    "     while True:\n",
    "         if light.value():\n",
    "             blue.on()\n",
    "         else:\n",
    "             blue.off()\n",
    "         if motion.value():\n",
    "             green.on()\n",
    "         else:\n",
    "             green.off()\n",
    "         hum.measure()\n",
    "         if hum.temperature() > 26 or hum.humidity() > 50:\n",
    "             red.on()\n",
    "         else:\n",
    "             red.off()\n",
    "         sleep(2)\n",
    "main()  # To end script, interrupt kernel (or press 'Esc' twice and 'i' twice)."
   ]
  },
  {
   "cell_type": "markdown",
   "metadata": {
    "slideshow": {
     "slide_type": "slide"
    }
   },
   "source": [
    "# Demo time..."
   ]
  },
  {
   "cell_type": "markdown",
   "metadata": {
    "slideshow": {
     "slide_type": "subslide"
    }
   },
   "source": [
    "### Simple loop with no efficiency in mind."
   ]
  },
  {
   "cell_type": "code",
   "execution_count": 65,
   "metadata": {
    "slideshow": {
     "slide_type": "fragment"
    }
   },
   "outputs": [
    {
     "name": "stdout",
     "output_type": "stream",
     "text": [
      ".9.137 sec, 45.686 usec/blink,    21.89 kblinks/sec\n"
     ]
    }
   ],
   "source": [
    "import time, machine\n",
    "\n",
    "blue = machine.Pin(0, machine.Pin.OUT)\n",
    "loops = 200_000\n",
    "start = time.ticks_us()\n",
    "\n",
    "for i in range(loops):\n",
    "    blue.on()\n",
    "    blue.off()\n",
    "\n",
    "end = time.ticks_us()\n",
    "diff = time.ticks_diff(end, start)\n",
    "temp = '{:5.3f} sec, {:6.3f} usec/blink, {:8.2f} kblinks/sec'\n",
    "print(temp.format(diff * 1e-6, diff / loops, loops / diff * 1e3))\n"
   ]
  },
  {
   "cell_type": "markdown",
   "metadata": {
    "slideshow": {
     "slide_type": "subslide"
    }
   },
   "source": [
    "### Simple loop wrapped in a function.\n",
    "* Number of loops no longer looked up in global scope."
   ]
  },
  {
   "cell_type": "code",
   "execution_count": 66,
   "metadata": {
    "slideshow": {
     "slide_type": "fragment"
    }
   },
   "outputs": [
    {
     "name": "stdout",
     "output_type": "stream",
     "text": [
      "..8.196 sec, 40.980 usec/blink,    24.40 kblinks/sec\n"
     ]
    }
   ],
   "source": [
    "import time, machine\n",
    "\n",
    "blue = machine.Pin(0, machine.Pin.OUT)\n",
    "loops = 200_000\n",
    "\n",
    "def blink_me(num):\n",
    "    for i in range(num):\n",
    "        blue.on()\n",
    "        blue.off()\n",
    "\n",
    "def time_me(func, num):\n",
    "    start = time.ticks_us()\n",
    "    func(num)\n",
    "    end = time.ticks_us()\n",
    "    diff = time.ticks_diff(end, start)\n",
    "    temp = '{:5.3f} sec, {:6.3f} usec/blink, {:8.2f} kblinks/sec'\n",
    "    print(temp.format(diff * 1e-6, diff / num, num / diff * 1e3))\n",
    "\n",
    "time_me(blink_me, loops)\n"
   ]
  },
  {
   "cell_type": "markdown",
   "metadata": {
    "slideshow": {
     "slide_type": "subslide"
    }
   },
   "source": [
    "### Preload methods into local scope of function.\n",
    "* Further reduces lookups."
   ]
  },
  {
   "cell_type": "code",
   "execution_count": 67,
   "metadata": {
    "slideshow": {
     "slide_type": "fragment"
    }
   },
   "outputs": [
    {
     "name": "stdout",
     "output_type": "stream",
     "text": [
      "..8.198 sec, 40.988 usec/blink,    24.40 kblinks/sec\n"
     ]
    }
   ],
   "source": [
    "import time, machine\n",
    "\n",
    "blue = machine.Pin(0, machine.Pin.OUT)\n",
    "loops = 200_000\n",
    "\n",
    "def blink_me(num):\n",
    "    for i in range(num):\n",
    "        blue.on()\n",
    "        blue.off()\n",
    "\n",
    "def time_me(func, num):\n",
    "    start = time.ticks_us()\n",
    "    func(num)\n",
    "    end = time.ticks_us()\n",
    "    diff = time.ticks_diff(end, start)\n",
    "    temp = '{:5.3f} sec, {:6.3f} usec/blink, {:8.2f} kblinks/sec'\n",
    "    print(temp.format(diff * 1e-6, diff / num, num / diff * 1e3))\n",
    "\n",
    "time_me(blink_me, loops)\n"
   ]
  },
  {
   "cell_type": "markdown",
   "metadata": {
    "slideshow": {
     "slide_type": "subslide"
    }
   },
   "source": [
    "### Patial loop unrolling.\n",
    "* Reduces the overhead of looping."
   ]
  },
  {
   "cell_type": "code",
   "execution_count": 69,
   "metadata": {
    "slideshow": {
     "slide_type": "fragment"
    }
   },
   "outputs": [],
   "source": [
    "import time, machine\n",
    "\n",
    "blue = machine.Pin(0, machine.Pin.OUT)\n",
    "loops = 200_000\n",
    "\n",
    "def blink_me(num):\n",
    "    num //= 8\n",
    "    on = blue.on\n",
    "    off = blue.off\n",
    "    r = range(num)\n",
    "    for i in r:\n",
    "        on()\n",
    "        off()\n",
    "        on()\n",
    "        off()\n",
    "        on()\n",
    "        off()\n",
    "        on()\n",
    "        off()\n",
    "        on()\n",
    "        off()\n",
    "        on()\n",
    "        off()\n",
    "        on()\n",
    "        off()\n",
    "        on()\n",
    "        off()"
   ]
  },
  {
   "cell_type": "code",
   "execution_count": 70,
   "metadata": {
    "slideshow": {
     "slide_type": "subslide"
    }
   },
   "outputs": [
    {
     "name": "stdout",
     "output_type": "stream",
     "text": [
      "3.409 sec, 17.043 usec/blink,    58.68 kblinks/sec\r\n"
     ]
    }
   ],
   "source": [
    "# continued from above...\n",
    "\n",
    "def time_me(func, num):\n",
    "    start = time.ticks_us()\n",
    "    func(num)\n",
    "    end = time.ticks_us()\n",
    "    diff = time.ticks_diff(end, start)\n",
    "    temp = '{:5.3f} sec, {:6.3f} usec/blink, {:8.2f} kblinks/sec'\n",
    "    print(temp.format(diff * 1e-6, diff / num, num / diff * 1e3))\n",
    "\n",
    "time_me(blink_me, loops)\n"
   ]
  },
  {
   "cell_type": "markdown",
   "metadata": {
    "slideshow": {
     "slide_type": "subslide"
    }
   },
   "source": [
    "### Machine code instead of bytecode."
   ]
  },
  {
   "cell_type": "code",
   "execution_count": 71,
   "metadata": {
    "slideshow": {
     "slide_type": "fragment"
    }
   },
   "outputs": [],
   "source": [
    "import time, machine\n",
    "\n",
    "blue = machine.Pin(0, machine.Pin.OUT)\n",
    "loops = 200_000\n",
    "\n",
    "@micropython.native\n",
    "def blink_me(num):\n",
    "    num //= 8\n",
    "    on = blue.on\n",
    "    off = blue.off\n",
    "    r = range(num)\n",
    "    for i in r:\n",
    "        on()\n",
    "        off()\n",
    "        on()\n",
    "        off()\n",
    "        on()\n",
    "        off()\n",
    "        on()\n",
    "        off()\n",
    "        on()\n",
    "        off()\n",
    "        on()\n",
    "        off()\n",
    "        on()\n",
    "        off()\n",
    "        on()\n",
    "        off()"
   ]
  },
  {
   "cell_type": "code",
   "execution_count": 72,
   "metadata": {
    "slideshow": {
     "slide_type": "subslide"
    }
   },
   "outputs": [
    {
     "name": "stdout",
     "output_type": "stream",
     "text": [
      ".2.248 sec, 11.238 usec/blink,    88.99 kblinks/sec\n"
     ]
    }
   ],
   "source": [
    "# continued from above...\n",
    "\n",
    "def time_me(func, num):\n",
    "    start = time.ticks_us()\n",
    "    func(num)\n",
    "    end = time.ticks_us()\n",
    "    diff = time.ticks_diff(end, start)\n",
    "    temp = '{:5.3f} sec, {:6.3f} usec/blink, {:8.2f} kblinks/sec'\n",
    "    print(temp.format(diff * 1e-6, diff / num, num / diff * 1e3))\n",
    "\n",
    "time_me(blink_me, loops)"
   ]
  },
  {
   "cell_type": "markdown",
   "metadata": {
    "slideshow": {
     "slide_type": "subslide"
    }
   },
   "source": [
    "### Viper mode!\n",
    "* Writes directly to GPIO registers.\n",
    "* Allows direct manipulation of registers."
   ]
  },
  {
   "cell_type": "code",
   "execution_count": null,
   "metadata": {
    "slideshow": {
     "slide_type": "fragment"
    }
   },
   "outputs": [],
   "source": [
    "import time, machine\n",
    "\n",
    "blue = machine.Pin(0, machine.Pin.OUT)\n",
    "loops = 200_000\n",
    "\n",
    "@micropython.viper\n",
    "def blink_me(num:int):\n",
    "    num //= 8\n",
    "    p = ptr32(0x60000328)\n",
    "    for i in range(num)\n",
    "        p[0] = 1 << 4 # High\n",
    "        p[1] = 1 << 4 # Low\n",
    "        p[0] = 1 << 4 # High\n",
    "        p[1] = 1 << 4 # Low\n",
    "        p[0] = 1 << 4 # High\n",
    "        p[1] = 1 << 4 # Low\n",
    "        p[0] = 1 << 4 # High\n",
    "        p[1] = 1 << 4 # Low\n",
    "        p[0] = 1 << 4 # High\n",
    "        p[1] = 1 << 4 # Low\n",
    "        p[0] = 1 << 4 # High\n",
    "        p[1] = 1 << 4 # Low\n",
    "        p[0] = 1 << 4 # High\n",
    "        p[1] = 1 << 4 # Low\n",
    "        p[0] = 1 << 4 # High\n",
    "        p[1] = 1 << 4 # Low"
   ]
  },
  {
   "cell_type": "code",
   "execution_count": null,
   "metadata": {
    "slideshow": {
     "slide_type": "subslide"
    }
   },
   "outputs": [],
   "source": [
    "# continued from above...\n",
    "\n",
    "def time_me(func, num):\n",
    "    start = time.ticks_us()\n",
    "    func(num)\n",
    "    end = time.ticks_us()\n",
    "    diff = time.ticks_diff(end, start)\n",
    "    temp = '{:5.3f} sec, {:6.3f} usec/blink, {:8.2f} kblinks/sec'\n",
    "    print(temp.format(diff * 1e-6, diff / num, num / diff * 1e3))\n",
    "\n",
    "time_me(blink_me, loops)"
   ]
  },
  {
   "cell_type": "markdown",
   "metadata": {
    "slideshow": {
     "slide_type": "subslide"
    }
   },
   "source": [
    "### Assembler\n",
    "* Write directly to the GPIO registers."
   ]
  },
  {
   "cell_type": "code",
   "execution_count": null,
   "metadata": {
    "slideshow": {
     "slide_type": "fragment"
    }
   },
   "outputs": [],
   "source": [
    "import time, machine\n",
    "\n",
    "blue = machine.Pin(0, machine.Pin.OUT)\n",
    "loops = 200_000\n",
    "\n",
    "@micropython.asm_thumb\n",
    "def blink_me(r0):\n",
    "    lsr(r0, r0, 3)\n",
    "    movwt(r1, 0x60000328)\n",
    "    mov(r2, 1 << 4)\n",
    "    lable(loop)\n",
    "    strh(r2, [r1, 0]) # High\n",
    "    strh(r2, [r1, 2]) # Low\n",
    "    strh(r2, [r1, 0]) # High\n",
    "    strh(r2, [r1, 2]) # Low\n",
    "    strh(r2, [r1, 0]) # High\n",
    "    strh(r2, [r1, 2]) # Low\n",
    "    strh(r2, [r1, 0]) # High\n",
    "    strh(r2, [r1, 2]) # Low\n",
    "    strh(r2, [r1, 0]) # High\n",
    "    strh(r2, [r1, 2]) # Low\n",
    "    strh(r2, [r1, 0]) # High\n",
    "    strh(r2, [r1, 2]) # Low\n",
    "    strh(r2, [r1, 0]) # High\n",
    "    strh(r2, [r1, 2]) # Low\n",
    "    strh(r2, [r1, 0]) # High\n",
    "    strh(r2, [r1, 2]) # Low"
   ]
  },
  {
   "cell_type": "code",
   "execution_count": null,
   "metadata": {
    "slideshow": {
     "slide_type": "subslide"
    }
   },
   "outputs": [],
   "source": [
    "# continued from above...\n",
    "\n",
    "def time_me(func, num):\n",
    "    start = time.ticks_us()\n",
    "    func(num)\n",
    "    end = time.ticks_us()\n",
    "    diff = time.ticks_diff(end, start)\n",
    "    temp = '{:5.3f} sec, {:6.3f} usec/blink, {:8.2f} kblinks/sec'\n",
    "    print(temp.format(diff * 1e-6, diff / num, num / diff * 1e3))\n",
    "\n",
    "time_me(blink_me, loops)"
   ]
  },
  {
   "cell_type": "markdown",
   "metadata": {
    "slideshow": {
     "slide_type": "slide"
    }
   },
   "source": [
    "# *Fin*"
   ]
  },
  {
   "cell_type": "markdown",
   "metadata": {
    "slideshow": {
     "slide_type": "slide"
    }
   },
   "source": [
    "---"
   ]
  },
  {
   "cell_type": "code",
   "execution_count": 32,
   "metadata": {},
   "outputs": [
    {
     "name": "stdout",
     "output_type": "stream",
     "text": [
      "__main__          hashlib           socket            urandom\n",
      "_boot             inisetup          ssl               ure\n",
      "_onewire          io                struct            uselect\n",
      "_webrepl          json              sys               usocket\n",
      "apa102            lwip              time              ussl\n",
      "array             machine           ubinascii         ustruct\n",
      "binascii          math              ucollections      utime\n",
      "btree             micropython       ucryptolib        utimeq\n",
      "builtins          neopixel          uctypes           uzlib\n",
      "collections       network           uerrno            webrepl\n",
      "dht               ntptime           uhashlib          webrepl_setup\n",
      "ds18x20           onewire           uheapq            websocket\n",
      "errno             os                uio               websocket_helper\n",
      "esp               port_diag         ujson             zlib\n",
      "flashbdev         random            uos\n",
      "framebuf          re                upip\n",
      "gc                select            upip_utarfile\n",
      "Plus any modules on the filesystem\n"
     ]
    }
   ],
   "source": [
    "help(\"modules\")"
   ]
  },
  {
   "cell_type": "code",
   "execution_count": 31,
   "metadata": {},
   "outputs": [
    {
     "name": "stdout",
     "output_type": "stream",
     "text": [
      "object <module 'umachine'> is of type module\n",
      "  __name__ -- umachine\n",
      "  mem8 -- <8-bit memory>\n",
      "  mem16 -- <16-bit memory>\n",
      "  mem32 -- <32-bit memory>\n",
      "  freq -- <function>\n",
      "  reset -- <function>\n",
      "  reset_cause -- <function>\n",
      "  unique_id -- <function>\n",
      "  idle -- <function>\n",
      "  sleep -- <function>\n",
      "  deepsleep -- <function>\n",
      "  disable_irq -- <function>\n",
      "  enable_irq -- <function>\n",
      "  time_pulse_us -- <function>\n",
      "  RTC -- <class 'RTC'>\n",
      "  Timer -- <class 'Timer'>\n",
      "  WDT -- <class 'WDT'>\n",
      "  Pin -- <class 'Pin'>\n",
      "  Signal -- <class 'Signal'>\n",
      "  PWM -- <class 'PWM'>\n",
      "  ADC -- <class 'ADC'>\n",
      "  UART -- <class 'UART'>\n",
      "  I2C -- <class 'I2C'>\n",
      "  SPI -- <class 'HSPI'>\n",
      "  DEEPSLEEP -- 4\n",
      "  PWRON_RESET -- 0\n",
      "  HARD_RESET -- 6\n",
      "  DEEPSLEEP_RESET -- 5\n",
      "  WDT_RESET -- 1\n",
      "  SOFT_RESET -- 4\n"
     ]
    }
   ],
   "source": [
    "import machine\n",
    "help(machine)"
   ]
  },
  {
   "cell_type": "code",
   "execution_count": null,
   "metadata": {},
   "outputs": [],
   "source": [
    "def do_connect():\n",
    "    import network\n",
    "    sta_if = network.WLAN(network.STA_IF)\n",
    "    if not sta_if.isconnected():\n",
    "        print('connecting to network...')\n",
    "        sta_if.active(True)\n",
    "        sta_if.connect('<essid>', '<password>')\n",
    "        while not sta_if.isconnected():\n",
    "            pass\n",
    "    print('network config:', sta_if.ifconfig())"
   ]
  },
  {
   "cell_type": "code",
   "execution_count": 89,
   "metadata": {},
   "outputs": [
    {
     "name": "stdout",
     "output_type": "stream",
     "text": [
      "object <WLAN> is of type WLAN\n",
      "  active -- <function>\n",
      "  connect -- <function>\n",
      "  disconnect -- <function>\n",
      "  status -- <function>\n",
      "  scan -- <function>\n",
      "  isconnected -- <function>\n",
      "  config -- <function>\n",
      "  ifconfig -- <function>\n"
     ]
    }
   ],
   "source": [
    "help(sta_if)"
   ]
  },
  {
   "cell_type": "code",
   "execution_count": 90,
   "metadata": {},
   "outputs": [
    {
     "name": "stdout",
     "output_type": "stream",
     "text": [
      ".scandone\n",
      "(b'FiOS-8N3GB', b'H]60E\\xf0', 1, -68, 3, 0)\n",
      "(b'OO6E5', b'\\x00\\x1f\\x90\\xb3\\xa3\\xe0', 1, -88, 4, 0)\n",
      "(b'MySpectrumWiFi50-2G', b'\\xa8\\x9a\\x93\\x9d\\xa8V', 1, -86, 3, 0)\n",
      "(b'TigerGuest', b'\\xec\\x08kY\\xd7\\xbd', 1, -86, 3, 0)\n",
      "(b'ACTANONVERBA', b',03o\\x16\\x9b', 1, -90, 3, 0)\n",
      "(b'MySpectrumWiFi5d-2G', b'\\xac\\x84\\xc6\\xc2O\\xc1', 5, -89, 4, 0)\n",
      "(b'MySpectrumWiFi5d-2G', b'x)\\xed\\x19Q[', 5, -87, 3, 0)\n",
      "(b'MySpectrumWiFi5b-2G', b'x)\\xed|\\xcbY', 5, -90, 3, 0)\n",
      "(b'SkyFi', b'\\x10\\xdaC\\x11;\\x86', 5, -90, 4, 0)\n",
      "(b'2QNDG', b'\\x18\\x1b\\xeb\\x85w\\xe7', 6, -92, 3, 0)\n",
      "(b'WIFI8EA5BF', b'0\\xf7r\\x8e\\xa5\\xc3', 6, -89, 3, 0)\n",
      "(b'NTGR_VMB_1406851322', b',03>\\xf8N', 8, -90, 3, 0)\n",
      "(b'KnT_2015', b'\\xac\\x84\\xc6\\x8aK\\xae', 8, -88, 4, 0)\n",
      "(b'DIRECT-D1-HP ENVY 5640 series', b'\\x98\\xe7\\xf4\\x185\\xd2', 8, -93, 3, 0)\n",
      "(b'FTRSecure_4920_VK9V', b'\\x88A\\xfc\\x9b5Q', 10, -49, 3, 0)\n",
      "(b'FTRSecure_4920_VK9V', b'\\x88A\\xfc\\x9b5%', 10, -66, 3, 0)\n",
      "(b'6975c74dc7a3e03c866430f764cfab6e', b'\\xe8\\xfc\\xaf\\xbfl\\xcb', 11, -87, 3, 0)\n",
      "(b'WIFIC63D0F', b'@I\\x0f\\xc6=\\x13', 11, -93, 3, 0)\n",
      "(b'tl62005e', b'\\x00%\\xf0b\\x00^', 11, -74, 3, 0)\n"
     ]
    }
   ],
   "source": [
    "[print(i) for i in sta_if.scan()]"
   ]
  },
  {
   "cell_type": "code",
   "execution_count": 47,
   "metadata": {},
   "outputs": [
    {
     "name": "stdout",
     "output_type": "stream",
     "text": [
      "object <module 'network'> is of type module\n",
      "  __name__ -- network\n",
      "  WLAN -- <function>\n",
      "  phy_mode -- <function>\n",
      "  STA_IF -- 0\n",
      "  AP_IF -- 1\n",
      "  STAT_IDLE -- 0\n",
      "  STAT_CONNECTING -- 1\n",
      "  STAT_WRONG_PASSWORD -- 2\n",
      "  STAT_NO_AP_FOUND -- 3\n",
      "  STAT_CONNECT_FAIL -- 4\n",
      "  STAT_GOT_IP -- 5\n",
      "  MODE_11B -- 1\n",
      "  MODE_11G -- 2\n",
      "  MODE_11N -- 3\n",
      "  AUTH_OPEN -- 0\n",
      "  AUTH_WEP -- 1\n",
      "  AUTH_WPA_PSK -- 2\n",
      "  AUTH_WPA2_PSK -- 3\n",
      "  AUTH_WPA_WPA2_PSK -- 4\n"
     ]
    }
   ],
   "source": [
    "help(network)"
   ]
  },
  {
   "cell_type": "code",
   "execution_count": 56,
   "metadata": {
    "slideshow": {
     "slide_type": "skip"
    }
   },
   "outputs": [
    {
     "name": "stdout",
     "output_type": "stream",
     "text": [
      "[leftinbuffer] [' 2 (b0)']\n",
      "[leftinbuffer] ['state: 2 -> 3 (0)']\n",
      "[leftinbuffer] ['state: 3 -> 5 (10)']\n",
      "[leftinbuffer] ['add 0']\n",
      "[leftinbuffer] ['aid 3']\n",
      "[leftinbuffer] ['cnt ']\n",
      "[leftinbuffer] ['connected with Student, channel 1']\n",
      "[leftinbuffer] ['dhcp client start...']\n",
      "[leftinbuffer] ['ip:10.1.227.225,mask:255.255.0.0,gw:10.1.1.2']\n",
      "[leftinbuffer] ['10.676 sec, 53.381 usec/blink,    18.73 kblinks/sec']\n",
      "[leftinbuffer] ['MicroPython v1.9.4-762-gfa50047bb on 2018-12-28; ESP module with ESP8266']\n",
      "[leftinbuffer] ['Type \"help()\" for more information.']\n",
      "[leftinbuffer] ['>>> ']\n",
      "repl is in normal command mode\n",
      "[\\r\\x03\\x03] b'\\r\\n>>> \\r\\n>>> \\r\\nMicroPython v1.9.4-762-gfa50047bb on 2018-12-28; ESP module with ESP8266\\r\\nType \"help()\" for more information.\\r\\n>>> \\r\\n>>> \\r\\nPYB: softTraceback (most recent call last):\\r\\n  File \"main.py\", line 15, in <module>\\r\\nKeyboardInterrupt: \\r\\nMicroPython v1.9.4-762-gfa50047bb on 2018-12-28; ESP module with ESP8266\\r\\nType \"help()\" for more information.\\r\\n>>> \\r\\n>>> '\n",
      "[\\r\\x01] b'\\r\\n>>> \\r\\nraw REPL; CTRL-B to exit\\r\\n>'"
     ]
    }
   ],
   "source": [
    "%rebootdevice"
   ]
  },
  {
   "cell_type": "code",
   "execution_count": null,
   "metadata": {},
   "outputs": [],
   "source": []
  }
 ],
 "metadata": {
  "kernelspec": {
   "display_name": "MicroPython - USB",
   "language": "micropython",
   "name": "micropython"
  },
  "language_info": {
   "codemirror_mode": "python",
   "file_extension": ".py",
   "mimetype": "text/python",
   "name": "micropython"
  },
  "toc": {
   "base_numbering": 1,
   "nav_menu": {},
   "number_sections": false,
   "sideBar": false,
   "skip_h1_title": false,
   "title_cell": "Table of Contents",
   "title_sidebar": "Contents",
   "toc_cell": false,
   "toc_position": {},
   "toc_section_display": false,
   "toc_window_display": false
  }
 },
 "nbformat": 4,
 "nbformat_minor": 2
}
