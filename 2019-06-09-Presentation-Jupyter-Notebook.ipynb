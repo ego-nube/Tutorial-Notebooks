{
 "cells": [
  {
   "cell_type": "markdown",
   "metadata": {
    "collapsed": true,
    "slideshow": {
     "slide_type": "slide"
    }
   },
   "source": [
    "<img src=\"resources/jupyter-main-logo.svg\" alt=\"Jupyter\" height=\"200\" width=\"200\">\n",
    "<h1 align=\"center\">Jupyter Notebook Introduction</h1>"
   ]
  },
  {
   "cell_type": "markdown",
   "metadata": {
    "collapsed": true,
    "slideshow": {
     "slide_type": "slide"
    }
   },
   "source": [
    "## History\n",
    "\n",
    "### IPython\n",
    "* Initial Release: 2001\n",
    "* \"Command shell for interactive computing in multiple programming languages.\" [Wikipedia.org](https://en.wikipedia.org/wiki/IPython)\n",
    "* Interactive, parallelism, history, environment, [etc...](http://ipython.readthedocs.io)\n",
    "\n",
    "### Notebook\n",
    "* Interactive computing environment.\n",
    "* HTML / JavaScript with a kernel ([Python](https://www.python.org/) (default), [R](https://www.r-project.org/), [Julia](http://julialang.org/), [Haskell](https://www.haskell.org/), [130 more...](https://github.com/jupyter/jupyter/wiki/Jupyter-kernels)).\n",
    "* [JSON](http://www.json.org/) (orderd list of input/output cells)\n",
    "* May contain live code, text, mathematics, plot, and rich media.\n",
    "* Built on [IPython](https://ipython.org/), [ØMQ](http://zeromq.org/), [Tornado](http://www.tornadoweb.org), [jQuery](https://jquery.com/), [Bootstrap](http://getbootstrap.com/), and [MathJax](https://www.mathjax.org/).\n",
    "\n",
    "#### Modes:\n",
    "\n",
    "* Command\n",
    "* Edit"
   ]
  },
  {
   "cell_type": "markdown",
   "metadata": {
    "slideshow": {
     "slide_type": "slide"
    }
   },
   "source": [
    "## Shortcuts\n",
    "\n",
    "### Navigation\n",
    "\n",
    "|Key(s)|Action|\n",
    "|:-:|:---|\n",
    "| H | show shortcut menu |\n",
    "| A | add cell *above*|\n",
    "| B | add cell *below* |\n",
    "| M | markdown cell |\n",
    "| Y | code cell |\n",
    "| DD | delete cell |\n",
    "| Shift + Enter | run cell on move to next |\n",
    "| Ctrl + Enter | run cell on remain |\n",
    "| Alt + Enter | run cell and move to newly created cell |"
   ]
  },
  {
   "cell_type": "markdown",
   "metadata": {
    "slideshow": {
     "slide_type": "slide"
    }
   },
   "source": [
    "### Editing\n",
    "\n",
    "|Key(s)|Action|\n",
    "|:-:|:---|\n",
    "| Enter | go into insert mode |\n",
    "| Escape | exit insert mode |\n",
    "| Tab | code completion |\n",
    "| Shift + Tab | tooltips (3 versions) |\n",
    "| Ctrl + S | save |"
   ]
  },
  {
   "cell_type": "markdown",
   "metadata": {
    "slideshow": {
     "slide_type": "slide"
    }
   },
   "source": [
    "### Markdown:\n",
    "\n",
    "* Headings (#)\n",
    "\n",
    "* Lists (*)\n",
    "\n",
    "* Blockquote\n",
    "> This is an example.\n",
    "\n",
    "* Horizontal Rule (---)\n",
    "\n",
    "---\n",
    "\n",
    "* Embedded code (three backticks) ```--> this text is inline code```\n",
    "\n",
    "```python\n",
    "def my_function():\n",
    "    \"\"\"My syntax is highlighted for the Python language.\"\"\"\n",
    "    pass\n",
    "```\n",
    "\n",
    "* LaTeX $e^{i\\pi} + 1 = 0$\n",
    "\n",
    "$F(k) = \\int_{-\\infty}^{\\infty} f(x) e^{2\\pi i k} dx$\n",
    "---\n",
    "\n",
    "* External links: ```[name](https://some_website.com)```\n",
    "* Internal links: ```[name](#the_last_cell)``` [Example](#the_last_cell)"
   ]
  },
  {
   "cell_type": "markdown",
   "metadata": {
    "slideshow": {
     "slide_type": "slide"
    }
   },
   "source": [
    "### Raw:"
   ]
  },
  {
   "cell_type": "raw",
   "metadata": {
    "slideshow": {
     "slide_type": "-"
    }
   },
   "source": [
    "this is a raw cell `~!@#$%^&*()[]\\{}|;':\",./<>? ...anything goes..."
   ]
  },
  {
   "cell_type": "markdown",
   "metadata": {
    "slideshow": {
     "slide_type": "slide"
    }
   },
   "source": [
    "### Code:"
   ]
  },
  {
   "cell_type": "code",
   "execution_count": 1,
   "metadata": {
    "slideshow": {
     "slide_type": "-"
    }
   },
   "outputs": [],
   "source": [
    "some_global_variable = 6\n",
    "\n",
    "def my_function(arg):\n",
    "    \"\"\"This is a docstring.\"\"\"\n",
    "    some_global_variable = 1\n",
    "        \n",
    "    return some_global_variable"
   ]
  },
  {
   "cell_type": "code",
   "execution_count": 2,
   "metadata": {
    "slideshow": {
     "slide_type": "-"
    }
   },
   "outputs": [
    {
     "name": "stdout",
     "output_type": "stream",
     "text": [
      "1\n"
     ]
    }
   ],
   "source": [
    "print(my_function(5))"
   ]
  },
  {
   "cell_type": "code",
   "execution_count": 3,
   "metadata": {
    "slideshow": {
     "slide_type": "-"
    }
   },
   "outputs": [
    {
     "data": {
      "text/plain": [
       "6"
      ]
     },
     "execution_count": 3,
     "metadata": {},
     "output_type": "execute_result"
    }
   ],
   "source": [
    "some_global_variable"
   ]
  },
  {
   "cell_type": "code",
   "execution_count": 4,
   "metadata": {
    "slideshow": {
     "slide_type": "-"
    }
   },
   "outputs": [],
   "source": [
    "int?"
   ]
  },
  {
   "cell_type": "code",
   "execution_count": 5,
   "metadata": {
    "slideshow": {
     "slide_type": "-"
    }
   },
   "outputs": [],
   "source": [
    "*int*?"
   ]
  },
  {
   "cell_type": "markdown",
   "metadata": {
    "slideshow": {
     "slide_type": "skip"
    }
   },
   "source": [
    "---"
   ]
  },
  {
   "cell_type": "markdown",
   "metadata": {
    "collapsed": true,
    "slideshow": {
     "slide_type": "slide"
    }
   },
   "source": [
    "### Magic\n",
    "\n",
    "* ```%``` or ```%%```\n",
    "* debug, time, timeit, run, and more..."
   ]
  },
  {
   "cell_type": "code",
   "execution_count": 6,
   "metadata": {
    "slideshow": {
     "slide_type": "-"
    }
   },
   "outputs": [],
   "source": [
    "%magic"
   ]
  },
  {
   "cell_type": "code",
   "execution_count": 7,
   "metadata": {
    "slideshow": {
     "slide_type": "-"
    }
   },
   "outputs": [],
   "source": [
    "%quickref"
   ]
  },
  {
   "cell_type": "code",
   "execution_count": 8,
   "metadata": {
    "slideshow": {
     "slide_type": "-"
    }
   },
   "outputs": [
    {
     "name": "stdout",
     "output_type": "stream",
     "text": [
      "CPU times: user 3.21 s, sys: 55.2 ms, total: 3.27 s\n",
      "Wall time: 3.27 s\n"
     ]
    }
   ],
   "source": [
    "%time some_list = [x**x for x in range(9001)]"
   ]
  },
  {
   "cell_type": "code",
   "execution_count": 9,
   "metadata": {
    "slideshow": {
     "slide_type": "-"
    }
   },
   "outputs": [
    {
     "name": "stdout",
     "output_type": "stream",
     "text": [
      "[sudo] password for r: \n"
     ]
    }
   ],
   "source": [
    "!sudo python3.6 -m pip install matplotlib"
   ]
  },
  {
   "cell_type": "code",
   "execution_count": 10,
   "metadata": {
    "slideshow": {
     "slide_type": "slide"
    }
   },
   "outputs": [
    {
     "data": {
      "application/javascript": [
       "/* Put everything inside the global mpl namespace */\n",
       "window.mpl = {};\n",
       "\n",
       "\n",
       "mpl.get_websocket_type = function() {\n",
       "    if (typeof(WebSocket) !== 'undefined') {\n",
       "        return WebSocket;\n",
       "    } else if (typeof(MozWebSocket) !== 'undefined') {\n",
       "        return MozWebSocket;\n",
       "    } else {\n",
       "        alert('Your browser does not have WebSocket support. ' +\n",
       "              'Please try Chrome, Safari or Firefox ≥ 6. ' +\n",
       "              'Firefox 4 and 5 are also supported but you ' +\n",
       "              'have to enable WebSockets in about:config.');\n",
       "    };\n",
       "}\n",
       "\n",
       "mpl.figure = function(figure_id, websocket, ondownload, parent_element) {\n",
       "    this.id = figure_id;\n",
       "\n",
       "    this.ws = websocket;\n",
       "\n",
       "    this.supports_binary = (this.ws.binaryType != undefined);\n",
       "\n",
       "    if (!this.supports_binary) {\n",
       "        var warnings = document.getElementById(\"mpl-warnings\");\n",
       "        if (warnings) {\n",
       "            warnings.style.display = 'block';\n",
       "            warnings.textContent = (\n",
       "                \"This browser does not support binary websocket messages. \" +\n",
       "                    \"Performance may be slow.\");\n",
       "        }\n",
       "    }\n",
       "\n",
       "    this.imageObj = new Image();\n",
       "\n",
       "    this.context = undefined;\n",
       "    this.message = undefined;\n",
       "    this.canvas = undefined;\n",
       "    this.rubberband_canvas = undefined;\n",
       "    this.rubberband_context = undefined;\n",
       "    this.format_dropdown = undefined;\n",
       "\n",
       "    this.image_mode = 'full';\n",
       "\n",
       "    this.root = $('<div/>');\n",
       "    this._root_extra_style(this.root)\n",
       "    this.root.attr('style', 'display: inline-block');\n",
       "\n",
       "    $(parent_element).append(this.root);\n",
       "\n",
       "    this._init_header(this);\n",
       "    this._init_canvas(this);\n",
       "    this._init_toolbar(this);\n",
       "\n",
       "    var fig = this;\n",
       "\n",
       "    this.waiting = false;\n",
       "\n",
       "    this.ws.onopen =  function () {\n",
       "            fig.send_message(\"supports_binary\", {value: fig.supports_binary});\n",
       "            fig.send_message(\"send_image_mode\", {});\n",
       "            if (mpl.ratio != 1) {\n",
       "                fig.send_message(\"set_dpi_ratio\", {'dpi_ratio': mpl.ratio});\n",
       "            }\n",
       "            fig.send_message(\"refresh\", {});\n",
       "        }\n",
       "\n",
       "    this.imageObj.onload = function() {\n",
       "            if (fig.image_mode == 'full') {\n",
       "                // Full images could contain transparency (where diff images\n",
       "                // almost always do), so we need to clear the canvas so that\n",
       "                // there is no ghosting.\n",
       "                fig.context.clearRect(0, 0, fig.canvas.width, fig.canvas.height);\n",
       "            }\n",
       "            fig.context.drawImage(fig.imageObj, 0, 0);\n",
       "        };\n",
       "\n",
       "    this.imageObj.onunload = function() {\n",
       "        fig.ws.close();\n",
       "    }\n",
       "\n",
       "    this.ws.onmessage = this._make_on_message_function(this);\n",
       "\n",
       "    this.ondownload = ondownload;\n",
       "}\n",
       "\n",
       "mpl.figure.prototype._init_header = function() {\n",
       "    var titlebar = $(\n",
       "        '<div class=\"ui-dialog-titlebar ui-widget-header ui-corner-all ' +\n",
       "        'ui-helper-clearfix\"/>');\n",
       "    var titletext = $(\n",
       "        '<div class=\"ui-dialog-title\" style=\"width: 100%; ' +\n",
       "        'text-align: center; padding: 3px;\"/>');\n",
       "    titlebar.append(titletext)\n",
       "    this.root.append(titlebar);\n",
       "    this.header = titletext[0];\n",
       "}\n",
       "\n",
       "\n",
       "\n",
       "mpl.figure.prototype._canvas_extra_style = function(canvas_div) {\n",
       "\n",
       "}\n",
       "\n",
       "\n",
       "mpl.figure.prototype._root_extra_style = function(canvas_div) {\n",
       "\n",
       "}\n",
       "\n",
       "mpl.figure.prototype._init_canvas = function() {\n",
       "    var fig = this;\n",
       "\n",
       "    var canvas_div = $('<div/>');\n",
       "\n",
       "    canvas_div.attr('style', 'position: relative; clear: both; outline: 0');\n",
       "\n",
       "    function canvas_keyboard_event(event) {\n",
       "        return fig.key_event(event, event['data']);\n",
       "    }\n",
       "\n",
       "    canvas_div.keydown('key_press', canvas_keyboard_event);\n",
       "    canvas_div.keyup('key_release', canvas_keyboard_event);\n",
       "    this.canvas_div = canvas_div\n",
       "    this._canvas_extra_style(canvas_div)\n",
       "    this.root.append(canvas_div);\n",
       "\n",
       "    var canvas = $('<canvas/>');\n",
       "    canvas.addClass('mpl-canvas');\n",
       "    canvas.attr('style', \"left: 0; top: 0; z-index: 0; outline: 0\")\n",
       "\n",
       "    this.canvas = canvas[0];\n",
       "    this.context = canvas[0].getContext(\"2d\");\n",
       "\n",
       "    var backingStore = this.context.backingStorePixelRatio ||\n",
       "\tthis.context.webkitBackingStorePixelRatio ||\n",
       "\tthis.context.mozBackingStorePixelRatio ||\n",
       "\tthis.context.msBackingStorePixelRatio ||\n",
       "\tthis.context.oBackingStorePixelRatio ||\n",
       "\tthis.context.backingStorePixelRatio || 1;\n",
       "\n",
       "    mpl.ratio = (window.devicePixelRatio || 1) / backingStore;\n",
       "\n",
       "    var rubberband = $('<canvas/>');\n",
       "    rubberband.attr('style', \"position: absolute; left: 0; top: 0; z-index: 1;\")\n",
       "\n",
       "    var pass_mouse_events = true;\n",
       "\n",
       "    canvas_div.resizable({\n",
       "        start: function(event, ui) {\n",
       "            pass_mouse_events = false;\n",
       "        },\n",
       "        resize: function(event, ui) {\n",
       "            fig.request_resize(ui.size.width, ui.size.height);\n",
       "        },\n",
       "        stop: function(event, ui) {\n",
       "            pass_mouse_events = true;\n",
       "            fig.request_resize(ui.size.width, ui.size.height);\n",
       "        },\n",
       "    });\n",
       "\n",
       "    function mouse_event_fn(event) {\n",
       "        if (pass_mouse_events)\n",
       "            return fig.mouse_event(event, event['data']);\n",
       "    }\n",
       "\n",
       "    rubberband.mousedown('button_press', mouse_event_fn);\n",
       "    rubberband.mouseup('button_release', mouse_event_fn);\n",
       "    // Throttle sequential mouse events to 1 every 20ms.\n",
       "    rubberband.mousemove('motion_notify', mouse_event_fn);\n",
       "\n",
       "    rubberband.mouseenter('figure_enter', mouse_event_fn);\n",
       "    rubberband.mouseleave('figure_leave', mouse_event_fn);\n",
       "\n",
       "    canvas_div.on(\"wheel\", function (event) {\n",
       "        event = event.originalEvent;\n",
       "        event['data'] = 'scroll'\n",
       "        if (event.deltaY < 0) {\n",
       "            event.step = 1;\n",
       "        } else {\n",
       "            event.step = -1;\n",
       "        }\n",
       "        mouse_event_fn(event);\n",
       "    });\n",
       "\n",
       "    canvas_div.append(canvas);\n",
       "    canvas_div.append(rubberband);\n",
       "\n",
       "    this.rubberband = rubberband;\n",
       "    this.rubberband_canvas = rubberband[0];\n",
       "    this.rubberband_context = rubberband[0].getContext(\"2d\");\n",
       "    this.rubberband_context.strokeStyle = \"#000000\";\n",
       "\n",
       "    this._resize_canvas = function(width, height) {\n",
       "        // Keep the size of the canvas, canvas container, and rubber band\n",
       "        // canvas in synch.\n",
       "        canvas_div.css('width', width)\n",
       "        canvas_div.css('height', height)\n",
       "\n",
       "        canvas.attr('width', width * mpl.ratio);\n",
       "        canvas.attr('height', height * mpl.ratio);\n",
       "        canvas.attr('style', 'width: ' + width + 'px; height: ' + height + 'px;');\n",
       "\n",
       "        rubberband.attr('width', width);\n",
       "        rubberband.attr('height', height);\n",
       "    }\n",
       "\n",
       "    // Set the figure to an initial 600x600px, this will subsequently be updated\n",
       "    // upon first draw.\n",
       "    this._resize_canvas(600, 600);\n",
       "\n",
       "    // Disable right mouse context menu.\n",
       "    $(this.rubberband_canvas).bind(\"contextmenu\",function(e){\n",
       "        return false;\n",
       "    });\n",
       "\n",
       "    function set_focus () {\n",
       "        canvas.focus();\n",
       "        canvas_div.focus();\n",
       "    }\n",
       "\n",
       "    window.setTimeout(set_focus, 100);\n",
       "}\n",
       "\n",
       "mpl.figure.prototype._init_toolbar = function() {\n",
       "    var fig = this;\n",
       "\n",
       "    var nav_element = $('<div/>');\n",
       "    nav_element.attr('style', 'width: 100%');\n",
       "    this.root.append(nav_element);\n",
       "\n",
       "    // Define a callback function for later on.\n",
       "    function toolbar_event(event) {\n",
       "        return fig.toolbar_button_onclick(event['data']);\n",
       "    }\n",
       "    function toolbar_mouse_event(event) {\n",
       "        return fig.toolbar_button_onmouseover(event['data']);\n",
       "    }\n",
       "\n",
       "    for(var toolbar_ind in mpl.toolbar_items) {\n",
       "        var name = mpl.toolbar_items[toolbar_ind][0];\n",
       "        var tooltip = mpl.toolbar_items[toolbar_ind][1];\n",
       "        var image = mpl.toolbar_items[toolbar_ind][2];\n",
       "        var method_name = mpl.toolbar_items[toolbar_ind][3];\n",
       "\n",
       "        if (!name) {\n",
       "            // put a spacer in here.\n",
       "            continue;\n",
       "        }\n",
       "        var button = $('<button/>');\n",
       "        button.addClass('ui-button ui-widget ui-state-default ui-corner-all ' +\n",
       "                        'ui-button-icon-only');\n",
       "        button.attr('role', 'button');\n",
       "        button.attr('aria-disabled', 'false');\n",
       "        button.click(method_name, toolbar_event);\n",
       "        button.mouseover(tooltip, toolbar_mouse_event);\n",
       "\n",
       "        var icon_img = $('<span/>');\n",
       "        icon_img.addClass('ui-button-icon-primary ui-icon');\n",
       "        icon_img.addClass(image);\n",
       "        icon_img.addClass('ui-corner-all');\n",
       "\n",
       "        var tooltip_span = $('<span/>');\n",
       "        tooltip_span.addClass('ui-button-text');\n",
       "        tooltip_span.html(tooltip);\n",
       "\n",
       "        button.append(icon_img);\n",
       "        button.append(tooltip_span);\n",
       "\n",
       "        nav_element.append(button);\n",
       "    }\n",
       "\n",
       "    var fmt_picker_span = $('<span/>');\n",
       "\n",
       "    var fmt_picker = $('<select/>');\n",
       "    fmt_picker.addClass('mpl-toolbar-option ui-widget ui-widget-content');\n",
       "    fmt_picker_span.append(fmt_picker);\n",
       "    nav_element.append(fmt_picker_span);\n",
       "    this.format_dropdown = fmt_picker[0];\n",
       "\n",
       "    for (var ind in mpl.extensions) {\n",
       "        var fmt = mpl.extensions[ind];\n",
       "        var option = $(\n",
       "            '<option/>', {selected: fmt === mpl.default_extension}).html(fmt);\n",
       "        fmt_picker.append(option);\n",
       "    }\n",
       "\n",
       "    // Add hover states to the ui-buttons\n",
       "    $( \".ui-button\" ).hover(\n",
       "        function() { $(this).addClass(\"ui-state-hover\");},\n",
       "        function() { $(this).removeClass(\"ui-state-hover\");}\n",
       "    );\n",
       "\n",
       "    var status_bar = $('<span class=\"mpl-message\"/>');\n",
       "    nav_element.append(status_bar);\n",
       "    this.message = status_bar[0];\n",
       "}\n",
       "\n",
       "mpl.figure.prototype.request_resize = function(x_pixels, y_pixels) {\n",
       "    // Request matplotlib to resize the figure. Matplotlib will then trigger a resize in the client,\n",
       "    // which will in turn request a refresh of the image.\n",
       "    this.send_message('resize', {'width': x_pixels, 'height': y_pixels});\n",
       "}\n",
       "\n",
       "mpl.figure.prototype.send_message = function(type, properties) {\n",
       "    properties['type'] = type;\n",
       "    properties['figure_id'] = this.id;\n",
       "    this.ws.send(JSON.stringify(properties));\n",
       "}\n",
       "\n",
       "mpl.figure.prototype.send_draw_message = function() {\n",
       "    if (!this.waiting) {\n",
       "        this.waiting = true;\n",
       "        this.ws.send(JSON.stringify({type: \"draw\", figure_id: this.id}));\n",
       "    }\n",
       "}\n",
       "\n",
       "\n",
       "mpl.figure.prototype.handle_save = function(fig, msg) {\n",
       "    var format_dropdown = fig.format_dropdown;\n",
       "    var format = format_dropdown.options[format_dropdown.selectedIndex].value;\n",
       "    fig.ondownload(fig, format);\n",
       "}\n",
       "\n",
       "\n",
       "mpl.figure.prototype.handle_resize = function(fig, msg) {\n",
       "    var size = msg['size'];\n",
       "    if (size[0] != fig.canvas.width || size[1] != fig.canvas.height) {\n",
       "        fig._resize_canvas(size[0], size[1]);\n",
       "        fig.send_message(\"refresh\", {});\n",
       "    };\n",
       "}\n",
       "\n",
       "mpl.figure.prototype.handle_rubberband = function(fig, msg) {\n",
       "    var x0 = msg['x0'] / mpl.ratio;\n",
       "    var y0 = (fig.canvas.height - msg['y0']) / mpl.ratio;\n",
       "    var x1 = msg['x1'] / mpl.ratio;\n",
       "    var y1 = (fig.canvas.height - msg['y1']) / mpl.ratio;\n",
       "    x0 = Math.floor(x0) + 0.5;\n",
       "    y0 = Math.floor(y0) + 0.5;\n",
       "    x1 = Math.floor(x1) + 0.5;\n",
       "    y1 = Math.floor(y1) + 0.5;\n",
       "    var min_x = Math.min(x0, x1);\n",
       "    var min_y = Math.min(y0, y1);\n",
       "    var width = Math.abs(x1 - x0);\n",
       "    var height = Math.abs(y1 - y0);\n",
       "\n",
       "    fig.rubberband_context.clearRect(\n",
       "        0, 0, fig.canvas.width, fig.canvas.height);\n",
       "\n",
       "    fig.rubberband_context.strokeRect(min_x, min_y, width, height);\n",
       "}\n",
       "\n",
       "mpl.figure.prototype.handle_figure_label = function(fig, msg) {\n",
       "    // Updates the figure title.\n",
       "    fig.header.textContent = msg['label'];\n",
       "}\n",
       "\n",
       "mpl.figure.prototype.handle_cursor = function(fig, msg) {\n",
       "    var cursor = msg['cursor'];\n",
       "    switch(cursor)\n",
       "    {\n",
       "    case 0:\n",
       "        cursor = 'pointer';\n",
       "        break;\n",
       "    case 1:\n",
       "        cursor = 'default';\n",
       "        break;\n",
       "    case 2:\n",
       "        cursor = 'crosshair';\n",
       "        break;\n",
       "    case 3:\n",
       "        cursor = 'move';\n",
       "        break;\n",
       "    }\n",
       "    fig.rubberband_canvas.style.cursor = cursor;\n",
       "}\n",
       "\n",
       "mpl.figure.prototype.handle_message = function(fig, msg) {\n",
       "    fig.message.textContent = msg['message'];\n",
       "}\n",
       "\n",
       "mpl.figure.prototype.handle_draw = function(fig, msg) {\n",
       "    // Request the server to send over a new figure.\n",
       "    fig.send_draw_message();\n",
       "}\n",
       "\n",
       "mpl.figure.prototype.handle_image_mode = function(fig, msg) {\n",
       "    fig.image_mode = msg['mode'];\n",
       "}\n",
       "\n",
       "mpl.figure.prototype.updated_canvas_event = function() {\n",
       "    // Called whenever the canvas gets updated.\n",
       "    this.send_message(\"ack\", {});\n",
       "}\n",
       "\n",
       "// A function to construct a web socket function for onmessage handling.\n",
       "// Called in the figure constructor.\n",
       "mpl.figure.prototype._make_on_message_function = function(fig) {\n",
       "    return function socket_on_message(evt) {\n",
       "        if (evt.data instanceof Blob) {\n",
       "            /* FIXME: We get \"Resource interpreted as Image but\n",
       "             * transferred with MIME type text/plain:\" errors on\n",
       "             * Chrome.  But how to set the MIME type?  It doesn't seem\n",
       "             * to be part of the websocket stream */\n",
       "            evt.data.type = \"image/png\";\n",
       "\n",
       "            /* Free the memory for the previous frames */\n",
       "            if (fig.imageObj.src) {\n",
       "                (window.URL || window.webkitURL).revokeObjectURL(\n",
       "                    fig.imageObj.src);\n",
       "            }\n",
       "\n",
       "            fig.imageObj.src = (window.URL || window.webkitURL).createObjectURL(\n",
       "                evt.data);\n",
       "            fig.updated_canvas_event();\n",
       "            fig.waiting = false;\n",
       "            return;\n",
       "        }\n",
       "        else if (typeof evt.data === 'string' && evt.data.slice(0, 21) == \"data:image/png;base64\") {\n",
       "            fig.imageObj.src = evt.data;\n",
       "            fig.updated_canvas_event();\n",
       "            fig.waiting = false;\n",
       "            return;\n",
       "        }\n",
       "\n",
       "        var msg = JSON.parse(evt.data);\n",
       "        var msg_type = msg['type'];\n",
       "\n",
       "        // Call the  \"handle_{type}\" callback, which takes\n",
       "        // the figure and JSON message as its only arguments.\n",
       "        try {\n",
       "            var callback = fig[\"handle_\" + msg_type];\n",
       "        } catch (e) {\n",
       "            console.log(\"No handler for the '\" + msg_type + \"' message type: \", msg);\n",
       "            return;\n",
       "        }\n",
       "\n",
       "        if (callback) {\n",
       "            try {\n",
       "                // console.log(\"Handling '\" + msg_type + \"' message: \", msg);\n",
       "                callback(fig, msg);\n",
       "            } catch (e) {\n",
       "                console.log(\"Exception inside the 'handler_\" + msg_type + \"' callback:\", e, e.stack, msg);\n",
       "            }\n",
       "        }\n",
       "    };\n",
       "}\n",
       "\n",
       "// from http://stackoverflow.com/questions/1114465/getting-mouse-location-in-canvas\n",
       "mpl.findpos = function(e) {\n",
       "    //this section is from http://www.quirksmode.org/js/events_properties.html\n",
       "    var targ;\n",
       "    if (!e)\n",
       "        e = window.event;\n",
       "    if (e.target)\n",
       "        targ = e.target;\n",
       "    else if (e.srcElement)\n",
       "        targ = e.srcElement;\n",
       "    if (targ.nodeType == 3) // defeat Safari bug\n",
       "        targ = targ.parentNode;\n",
       "\n",
       "    // jQuery normalizes the pageX and pageY\n",
       "    // pageX,Y are the mouse positions relative to the document\n",
       "    // offset() returns the position of the element relative to the document\n",
       "    var x = e.pageX - $(targ).offset().left;\n",
       "    var y = e.pageY - $(targ).offset().top;\n",
       "\n",
       "    return {\"x\": x, \"y\": y};\n",
       "};\n",
       "\n",
       "/*\n",
       " * return a copy of an object with only non-object keys\n",
       " * we need this to avoid circular references\n",
       " * http://stackoverflow.com/a/24161582/3208463\n",
       " */\n",
       "function simpleKeys (original) {\n",
       "  return Object.keys(original).reduce(function (obj, key) {\n",
       "    if (typeof original[key] !== 'object')\n",
       "        obj[key] = original[key]\n",
       "    return obj;\n",
       "  }, {});\n",
       "}\n",
       "\n",
       "mpl.figure.prototype.mouse_event = function(event, name) {\n",
       "    var canvas_pos = mpl.findpos(event)\n",
       "\n",
       "    if (name === 'button_press')\n",
       "    {\n",
       "        this.canvas.focus();\n",
       "        this.canvas_div.focus();\n",
       "    }\n",
       "\n",
       "    var x = canvas_pos.x * mpl.ratio;\n",
       "    var y = canvas_pos.y * mpl.ratio;\n",
       "\n",
       "    this.send_message(name, {x: x, y: y, button: event.button,\n",
       "                             step: event.step,\n",
       "                             guiEvent: simpleKeys(event)});\n",
       "\n",
       "    /* This prevents the web browser from automatically changing to\n",
       "     * the text insertion cursor when the button is pressed.  We want\n",
       "     * to control all of the cursor setting manually through the\n",
       "     * 'cursor' event from matplotlib */\n",
       "    event.preventDefault();\n",
       "    return false;\n",
       "}\n",
       "\n",
       "mpl.figure.prototype._key_event_extra = function(event, name) {\n",
       "    // Handle any extra behaviour associated with a key event\n",
       "}\n",
       "\n",
       "mpl.figure.prototype.key_event = function(event, name) {\n",
       "\n",
       "    // Prevent repeat events\n",
       "    if (name == 'key_press')\n",
       "    {\n",
       "        if (event.which === this._key)\n",
       "            return;\n",
       "        else\n",
       "            this._key = event.which;\n",
       "    }\n",
       "    if (name == 'key_release')\n",
       "        this._key = null;\n",
       "\n",
       "    var value = '';\n",
       "    if (event.ctrlKey && event.which != 17)\n",
       "        value += \"ctrl+\";\n",
       "    if (event.altKey && event.which != 18)\n",
       "        value += \"alt+\";\n",
       "    if (event.shiftKey && event.which != 16)\n",
       "        value += \"shift+\";\n",
       "\n",
       "    value += 'k';\n",
       "    value += event.which.toString();\n",
       "\n",
       "    this._key_event_extra(event, name);\n",
       "\n",
       "    this.send_message(name, {key: value,\n",
       "                             guiEvent: simpleKeys(event)});\n",
       "    return false;\n",
       "}\n",
       "\n",
       "mpl.figure.prototype.toolbar_button_onclick = function(name) {\n",
       "    if (name == 'download') {\n",
       "        this.handle_save(this, null);\n",
       "    } else {\n",
       "        this.send_message(\"toolbar_button\", {name: name});\n",
       "    }\n",
       "};\n",
       "\n",
       "mpl.figure.prototype.toolbar_button_onmouseover = function(tooltip) {\n",
       "    this.message.textContent = tooltip;\n",
       "};\n",
       "mpl.toolbar_items = [[\"Home\", \"Reset original view\", \"fa fa-home icon-home\", \"home\"], [\"Back\", \"Back to previous view\", \"fa fa-arrow-left icon-arrow-left\", \"back\"], [\"Forward\", \"Forward to next view\", \"fa fa-arrow-right icon-arrow-right\", \"forward\"], [\"\", \"\", \"\", \"\"], [\"Pan\", \"Pan axes with left mouse, zoom with right\", \"fa fa-arrows icon-move\", \"pan\"], [\"Zoom\", \"Zoom to rectangle\", \"fa fa-square-o icon-check-empty\", \"zoom\"], [\"\", \"\", \"\", \"\"], [\"Download\", \"Download plot\", \"fa fa-floppy-o icon-save\", \"download\"]];\n",
       "\n",
       "mpl.extensions = [\"eps\", \"pdf\", \"png\", \"ps\", \"raw\", \"svg\"];\n",
       "\n",
       "mpl.default_extension = \"png\";var comm_websocket_adapter = function(comm) {\n",
       "    // Create a \"websocket\"-like object which calls the given IPython comm\n",
       "    // object with the appropriate methods. Currently this is a non binary\n",
       "    // socket, so there is still some room for performance tuning.\n",
       "    var ws = {};\n",
       "\n",
       "    ws.close = function() {\n",
       "        comm.close()\n",
       "    };\n",
       "    ws.send = function(m) {\n",
       "        //console.log('sending', m);\n",
       "        comm.send(m);\n",
       "    };\n",
       "    // Register the callback with on_msg.\n",
       "    comm.on_msg(function(msg) {\n",
       "        //console.log('receiving', msg['content']['data'], msg);\n",
       "        // Pass the mpl event to the overridden (by mpl) onmessage function.\n",
       "        ws.onmessage(msg['content']['data'])\n",
       "    });\n",
       "    return ws;\n",
       "}\n",
       "\n",
       "mpl.mpl_figure_comm = function(comm, msg) {\n",
       "    // This is the function which gets called when the mpl process\n",
       "    // starts-up an IPython Comm through the \"matplotlib\" channel.\n",
       "\n",
       "    var id = msg.content.data.id;\n",
       "    // Get hold of the div created by the display call when the Comm\n",
       "    // socket was opened in Python.\n",
       "    var element = $(\"#\" + id);\n",
       "    var ws_proxy = comm_websocket_adapter(comm)\n",
       "\n",
       "    function ondownload(figure, format) {\n",
       "        window.open(figure.imageObj.src);\n",
       "    }\n",
       "\n",
       "    var fig = new mpl.figure(id, ws_proxy,\n",
       "                           ondownload,\n",
       "                           element.get(0));\n",
       "\n",
       "    // Call onopen now - mpl needs it, as it is assuming we've passed it a real\n",
       "    // web socket which is closed, not our websocket->open comm proxy.\n",
       "    ws_proxy.onopen();\n",
       "\n",
       "    fig.parent_element = element.get(0);\n",
       "    fig.cell_info = mpl.find_output_cell(\"<div id='\" + id + \"'></div>\");\n",
       "    if (!fig.cell_info) {\n",
       "        console.error(\"Failed to find cell for figure\", id, fig);\n",
       "        return;\n",
       "    }\n",
       "\n",
       "    var output_index = fig.cell_info[2]\n",
       "    var cell = fig.cell_info[0];\n",
       "\n",
       "};\n",
       "\n",
       "mpl.figure.prototype.handle_close = function(fig, msg) {\n",
       "    var width = fig.canvas.width/mpl.ratio\n",
       "    fig.root.unbind('remove')\n",
       "\n",
       "    // Update the output cell to use the data from the current canvas.\n",
       "    fig.push_to_output();\n",
       "    var dataURL = fig.canvas.toDataURL();\n",
       "    // Re-enable the keyboard manager in IPython - without this line, in FF,\n",
       "    // the notebook keyboard shortcuts fail.\n",
       "    IPython.keyboard_manager.enable()\n",
       "    $(fig.parent_element).html('<img src=\"' + dataURL + '\" width=\"' + width + '\">');\n",
       "    fig.close_ws(fig, msg);\n",
       "}\n",
       "\n",
       "mpl.figure.prototype.close_ws = function(fig, msg){\n",
       "    fig.send_message('closing', msg);\n",
       "    // fig.ws.close()\n",
       "}\n",
       "\n",
       "mpl.figure.prototype.push_to_output = function(remove_interactive) {\n",
       "    // Turn the data on the canvas into data in the output cell.\n",
       "    var width = this.canvas.width/mpl.ratio\n",
       "    var dataURL = this.canvas.toDataURL();\n",
       "    this.cell_info[1]['text/html'] = '<img src=\"' + dataURL + '\" width=\"' + width + '\">';\n",
       "}\n",
       "\n",
       "mpl.figure.prototype.updated_canvas_event = function() {\n",
       "    // Tell IPython that the notebook contents must change.\n",
       "    IPython.notebook.set_dirty(true);\n",
       "    this.send_message(\"ack\", {});\n",
       "    var fig = this;\n",
       "    // Wait a second, then push the new image to the DOM so\n",
       "    // that it is saved nicely (might be nice to debounce this).\n",
       "    setTimeout(function () { fig.push_to_output() }, 1000);\n",
       "}\n",
       "\n",
       "mpl.figure.prototype._init_toolbar = function() {\n",
       "    var fig = this;\n",
       "\n",
       "    var nav_element = $('<div/>');\n",
       "    nav_element.attr('style', 'width: 100%');\n",
       "    this.root.append(nav_element);\n",
       "\n",
       "    // Define a callback function for later on.\n",
       "    function toolbar_event(event) {\n",
       "        return fig.toolbar_button_onclick(event['data']);\n",
       "    }\n",
       "    function toolbar_mouse_event(event) {\n",
       "        return fig.toolbar_button_onmouseover(event['data']);\n",
       "    }\n",
       "\n",
       "    for(var toolbar_ind in mpl.toolbar_items){\n",
       "        var name = mpl.toolbar_items[toolbar_ind][0];\n",
       "        var tooltip = mpl.toolbar_items[toolbar_ind][1];\n",
       "        var image = mpl.toolbar_items[toolbar_ind][2];\n",
       "        var method_name = mpl.toolbar_items[toolbar_ind][3];\n",
       "\n",
       "        if (!name) { continue; };\n",
       "\n",
       "        var button = $('<button class=\"btn btn-default\" href=\"#\" title=\"' + name + '\"><i class=\"fa ' + image + ' fa-lg\"></i></button>');\n",
       "        button.click(method_name, toolbar_event);\n",
       "        button.mouseover(tooltip, toolbar_mouse_event);\n",
       "        nav_element.append(button);\n",
       "    }\n",
       "\n",
       "    // Add the status bar.\n",
       "    var status_bar = $('<span class=\"mpl-message\" style=\"text-align:right; float: right;\"/>');\n",
       "    nav_element.append(status_bar);\n",
       "    this.message = status_bar[0];\n",
       "\n",
       "    // Add the close button to the window.\n",
       "    var buttongrp = $('<div class=\"btn-group inline pull-right\"></div>');\n",
       "    var button = $('<button class=\"btn btn-mini btn-primary\" href=\"#\" title=\"Stop Interaction\"><i class=\"fa fa-power-off icon-remove icon-large\"></i></button>');\n",
       "    button.click(function (evt) { fig.handle_close(fig, {}); } );\n",
       "    button.mouseover('Stop Interaction', toolbar_mouse_event);\n",
       "    buttongrp.append(button);\n",
       "    var titlebar = this.root.find($('.ui-dialog-titlebar'));\n",
       "    titlebar.prepend(buttongrp);\n",
       "}\n",
       "\n",
       "mpl.figure.prototype._root_extra_style = function(el){\n",
       "    var fig = this\n",
       "    el.on(\"remove\", function(){\n",
       "\tfig.close_ws(fig, {});\n",
       "    });\n",
       "}\n",
       "\n",
       "mpl.figure.prototype._canvas_extra_style = function(el){\n",
       "    // this is important to make the div 'focusable\n",
       "    el.attr('tabindex', 0)\n",
       "    // reach out to IPython and tell the keyboard manager to turn it's self\n",
       "    // off when our div gets focus\n",
       "\n",
       "    // location in version 3\n",
       "    if (IPython.notebook.keyboard_manager) {\n",
       "        IPython.notebook.keyboard_manager.register_events(el);\n",
       "    }\n",
       "    else {\n",
       "        // location in version 2\n",
       "        IPython.keyboard_manager.register_events(el);\n",
       "    }\n",
       "\n",
       "}\n",
       "\n",
       "mpl.figure.prototype._key_event_extra = function(event, name) {\n",
       "    var manager = IPython.notebook.keyboard_manager;\n",
       "    if (!manager)\n",
       "        manager = IPython.keyboard_manager;\n",
       "\n",
       "    // Check for shift+enter\n",
       "    if (event.shiftKey && event.which == 13) {\n",
       "        this.canvas_div.blur();\n",
       "        event.shiftKey = false;\n",
       "        // Send a \"J\" for go to next cell\n",
       "        event.which = 74;\n",
       "        event.keyCode = 74;\n",
       "        manager.command_mode();\n",
       "        manager.handle_keydown(event);\n",
       "    }\n",
       "}\n",
       "\n",
       "mpl.figure.prototype.handle_save = function(fig, msg) {\n",
       "    fig.ondownload(fig, null);\n",
       "}\n",
       "\n",
       "\n",
       "mpl.find_output_cell = function(html_output) {\n",
       "    // Return the cell and output element which can be found *uniquely* in the notebook.\n",
       "    // Note - this is a bit hacky, but it is done because the \"notebook_saving.Notebook\"\n",
       "    // IPython event is triggered only after the cells have been serialised, which for\n",
       "    // our purposes (turning an active figure into a static one), is too late.\n",
       "    var cells = IPython.notebook.get_cells();\n",
       "    var ncells = cells.length;\n",
       "    for (var i=0; i<ncells; i++) {\n",
       "        var cell = cells[i];\n",
       "        if (cell.cell_type === 'code'){\n",
       "            for (var j=0; j<cell.output_area.outputs.length; j++) {\n",
       "                var data = cell.output_area.outputs[j];\n",
       "                if (data.data) {\n",
       "                    // IPython >= 3 moved mimebundle to data attribute of output\n",
       "                    data = data.data;\n",
       "                }\n",
       "                if (data['text/html'] == html_output) {\n",
       "                    return [cell, data, j];\n",
       "                }\n",
       "            }\n",
       "        }\n",
       "    }\n",
       "}\n",
       "\n",
       "// Register the function which deals with the matplotlib target/channel.\n",
       "// The kernel may be null if the page has been refreshed.\n",
       "if (IPython.notebook.kernel != null) {\n",
       "    IPython.notebook.kernel.comm_manager.register_target('matplotlib', mpl.mpl_figure_comm);\n",
       "}\n"
      ],
      "text/plain": [
       "<IPython.core.display.Javascript object>"
      ]
     },
     "metadata": {},
     "output_type": "display_data"
    },
    {
     "data": {
      "text/html": [
       "<img src=\"data:image/png;base64,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\" width=\"639.9166666666667\">"
      ],
      "text/plain": [
       "<IPython.core.display.HTML object>"
      ]
     },
     "metadata": {},
     "output_type": "display_data"
    },
    {
     "data": {
      "text/plain": [
       "<matplotlib.legend.Legend at 0x7fc732ccd358>"
      ]
     },
     "execution_count": 10,
     "metadata": {},
     "output_type": "execute_result"
    }
   ],
   "source": [
    "%matplotlib notebook\n",
    "import matplotlib, numpy, pandas, seaborn\n",
    "from matplotlib import pyplot as plt\n",
    "\n",
    "ts = pandas.Series(numpy.random.randn(1000), index=pandas.date_range('1/1/2000', periods=1000))\n",
    "ts = ts.cumsum()\n",
    "df = pandas.DataFrame(numpy.random.randn(1000, 4), index=ts.index,\n",
    "                  columns=['A', 'B', 'C', 'D'])\n",
    "df = df.cumsum()\n",
    "df.plot(); plt.legend(loc='best')"
   ]
  },
  {
   "cell_type": "markdown",
   "metadata": {
    "slideshow": {
     "slide_type": "skip"
    }
   },
   "source": [
    "---"
   ]
  },
  {
   "cell_type": "markdown",
   "metadata": {
    "collapsed": true,
    "slideshow": {
     "slide_type": "slide"
    }
   },
   "source": [
    "### Bash"
   ]
  },
  {
   "cell_type": "code",
   "execution_count": 11,
   "metadata": {
    "slideshow": {
     "slide_type": "-"
    }
   },
   "outputs": [
    {
     "name": "stdout",
     "output_type": "stream",
     "text": [
      "2017-03-Presentation-Jupyter-Notebook.ipynb\r\n",
      "2017-03-Presentation-Jupyter-Notebook.slides.html\r\n",
      "20170907-HomeAssistant.ipynb\r\n",
      "20171014-pygame-example-chimp.ipynb\r\n",
      "2018-02-01-TUT-DFW-Debugging.ipynb\r\n",
      "2018-06-24-sklearn-KDDCUP99.ipynb\r\n",
      "2019-03-Presentation-Micropython.ipynb\r\n",
      "2019-06-09-Presentation-Jupyter-Notebook.ipynb\r\n",
      "data\r\n",
      "images\r\n",
      "LICENSE\r\n",
      "README.md\r\n",
      "resources\r\n"
     ]
    }
   ],
   "source": [
    "!dir"
   ]
  },
  {
   "cell_type": "code",
   "execution_count": 12,
   "metadata": {
    "slideshow": {
     "slide_type": "-"
    }
   },
   "outputs": [
    {
     "name": "stdout",
     "output_type": "stream",
     "text": [
      "My shell is: /bin/bash\n",
      "My disk usage is:\n",
      "Filesystem      Size  Used Avail Use% Mounted on\n",
      "udev            7.8G     0  7.8G   0% /dev\n",
      "tmpfs           1.6G  2.3M  1.6G   1% /run\n",
      "/dev/sda5       384G  249G  116G  69% /\n",
      "tmpfs           7.8G  205M  7.6G   3% /dev/shm\n",
      "tmpfs           5.0M  4.0K  5.0M   1% /run/lock\n",
      "tmpfs           7.8G     0  7.8G   0% /sys/fs/cgroup\n",
      "/dev/loop0       15M   15M     0 100% /snap/gnome-characters/280\n",
      "/dev/loop1      4.2M  4.2M     0 100% /snap/gnome-calculator/406\n",
      "/dev/loop2       54M   54M     0 100% /snap/core18/782\n",
      "/dev/loop3      1.0M  1.0M     0 100% /snap/gnome-logs/61\n",
      "/dev/loop4       35M   35M     0 100% /snap/gtk-common-themes/1122\n",
      "/dev/loop6      141M  141M     0 100% /snap/gnome-3-26-1604/74\n",
      "/dev/loop7      2.3M  2.3M     0 100% /snap/gnome-calculator/260\n",
      "/dev/loop8       35M   35M     0 100% /snap/gtk-common-themes/818\n",
      "/dev/loop9       90M   90M     0 100% /snap/core/6818\n",
      "/dev/loop11     152M  152M     0 100% /snap/gnome-3-28-1804/40\n",
      "/dev/loop12      90M   90M     0 100% /snap/core/6673\n",
      "/dev/loop13      54M   54M     0 100% /snap/core18/970\n",
      "/dev/loop14      15M   15M     0 100% /snap/gnome-characters/258\n",
      "/dev/loop15     4.2M  4.2M     0 100% /snap/gnome-calculator/352\n",
      "/dev/loop16     1.0M  1.0M     0 100% /snap/gnome-logs/57\n",
      "/dev/loop17      15M   15M     0 100% /snap/gnome-logs/45\n",
      "/dev/loop19     3.8M  3.8M     0 100% /snap/gnome-system-monitor/81\n",
      "/dev/loop21      54M   54M     0 100% /snap/core18/941\n",
      "/dev/loop20     3.8M  3.8M     0 100% /snap/gnome-system-monitor/83\n",
      "/dev/loop23      36M   36M     0 100% /snap/gtk-common-themes/1198\n",
      "/dev/loop22     141M  141M     0 100% /snap/gnome-3-26-1604/78\n",
      "/dev/loop10     152M  152M     0 100% /snap/gnome-3-28-1804/51\n",
      "/dev/loop18     141M  141M     0 100% /snap/gnome-3-26-1604/82\n",
      "/dev/loop5       89M   89M     0 100% /snap/core/6964\n",
      "/dev/sda1       496M   38M  459M   8% /boot/efi\n",
      "tmpfs           1.6G   20K  1.6G   1% /run/user/120\n",
      "tmpfs           1.6G   96K  1.6G   1% /run/user/1000\n"
     ]
    }
   ],
   "source": [
    "%%bash\n",
    "echo \"My shell is:\" $SHELL\n",
    "echo \"My disk usage is:\"\n",
    "df -h"
   ]
  },
  {
   "cell_type": "code",
   "execution_count": 13,
   "metadata": {
    "slideshow": {
     "slide_type": "-"
    }
   },
   "outputs": [
    {
     "name": "stdout",
     "output_type": "stream",
     "text": [
      "July"
     ]
    }
   ],
   "source": [
    "%%perl\n",
    "@months = (\"July\", \"August\", \"September\");\n",
    "print $months[0];"
   ]
  },
  {
   "cell_type": "code",
   "execution_count": 14,
   "metadata": {
    "slideshow": {
     "slide_type": "-"
    }
   },
   "outputs": [
    {
     "name": "stdout",
     "output_type": "stream",
     "text": [
      "Hello World!\n"
     ]
    }
   ],
   "source": [
    "%%ruby\n",
    "name = \"world\"\n",
    "puts \"Hello #{name.capitalize}!\""
   ]
  },
  {
   "cell_type": "markdown",
   "metadata": {
    "slideshow": {
     "slide_type": "skip"
    }
   },
   "source": [
    "---"
   ]
  },
  {
   "cell_type": "markdown",
   "metadata": {
    "slideshow": {
     "slide_type": "slide"
    }
   },
   "source": [
    "### HTML"
   ]
  },
  {
   "cell_type": "code",
   "execution_count": 15,
   "metadata": {
    "slideshow": {
     "slide_type": "-"
    }
   },
   "outputs": [
    {
     "data": {
      "text/html": [
       "<style>.container { width:100% !important; }</style>"
      ],
      "text/plain": [
       "<IPython.core.display.HTML object>"
      ]
     },
     "metadata": {},
     "output_type": "display_data"
    }
   ],
   "source": [
    "from IPython.core.display import display, HTML\n",
    "display(HTML(\"<style>.container { width:100% !important; }</style>\"))"
   ]
  },
  {
   "cell_type": "markdown",
   "metadata": {
    "slideshow": {
     "slide_type": "slide"
    }
   },
   "source": [
    "### Embed YouTube videos."
   ]
  },
  {
   "cell_type": "code",
   "execution_count": 16,
   "metadata": {
    "slideshow": {
     "slide_type": "-"
    }
   },
   "outputs": [
    {
     "data": {
      "image/jpeg": "[encoded data removed]",
      "text/html": [
       "\n",
       "        <iframe\n",
       "            width=\"400\"\n",
       "            height=\"300\"\n",
       "            src=\"https://www.youtube.com/embed/HW29067qVWk\"\n",
       "            frameborder=\"0\"\n",
       "            allowfullscreen\n",
       "        ></iframe>\n",
       "        "
      ],
      "text/plain": [
       "<IPython.lib.display.YouTubeVideo at 0x7fc72a2b5390>"
      ]
     },
     "execution_count": 16,
     "metadata": {},
     "output_type": "execute_result"
    }
   ],
   "source": [
    "from IPython.display import YouTubeVideo\n",
    "YouTubeVideo('HW29067qVWk')"
   ]
  },
  {
   "cell_type": "markdown",
   "metadata": {
    "slideshow": {
     "slide_type": "skip"
    }
   },
   "source": [
    "---"
   ]
  },
  {
   "cell_type": "markdown",
   "metadata": {
    "slideshow": {
     "slide_type": "slide"
    }
   },
   "source": [
    "## Configuration / Environment"
   ]
  },
  {
   "cell_type": "code",
   "execution_count": 17,
   "metadata": {
    "slideshow": {
     "slide_type": "-"
    }
   },
   "outputs": [
    {
     "name": "stdout",
     "output_type": "stream",
     "text": [
      "/home/r/.ipython/profile_default\r\n"
     ]
    }
   ],
   "source": [
    "!ipython profile locate"
   ]
  },
  {
   "cell_type": "code",
   "execution_count": 18,
   "metadata": {
    "slideshow": {
     "slide_type": "-"
    }
   },
   "outputs": [],
   "source": [
    "# Otherwise run: !ipython profile create\n",
    "\n",
    "# Sample output:\n",
    "\n",
    "# [ProfileCreate] Generating default config file: 'C:\\\\Users\\\\randall.white\\\\.ipython\\\\profile_default\\\\ipython_config.py'\n",
    "# [ProfileCreate] Generating default config file: 'C:\\\\Users\\\\randall.white\\\\.ipython\\\\profile_default\\\\ipython_kernel_config.py'"
   ]
  },
  {
   "cell_type": "markdown",
   "metadata": {
    "collapsed": true,
    "slideshow": {
     "slide_type": "-"
    }
   },
   "source": [
    "### Notebook specific configuration values\n",
    "* Example location in Windows:\n",
    "\n",
    "> C:\\Users\\randall.white\\.jupyter\\jupyter_notebook_config.py"
   ]
  },
  {
   "cell_type": "markdown",
   "metadata": {
    "slideshow": {
     "slide_type": "skip"
    }
   },
   "source": [
    "---"
   ]
  },
  {
   "cell_type": "markdown",
   "metadata": {
    "collapsed": true,
    "slideshow": {
     "slide_type": "slide"
    }
   },
   "source": [
    "### Resources\n",
    "* http://jupyter-notebook.readthedocs.io/en/latest/examples/Notebook/Working%20With%20Markdown%20Cells.html\n",
    "* http://sebastianraschka.com/Articles/2014_ipython_internal_links.html\n",
    "* http://www.datadependence.com/2017/02/speed-up-jupyter-notebook-workflow/\n",
    "* http://jupyter-notebook.readthedocs.io/en/latest/examples/Notebook/What%20is%20the%20Jupyter%20Notebook.html\n",
    "* http://nb.bianp.net/sort/views/\n",
    "* http://nbviewer.jupyter.org/\n",
    "* https://anaconda.org/gallery\n"
   ]
  },
  {
   "cell_type": "markdown",
   "metadata": {
    "slideshow": {
     "slide_type": "skip"
    }
   },
   "source": [
    "---"
   ]
  },
  {
   "cell_type": "code",
   "execution_count": null,
   "metadata": {
    "slideshow": {
     "slide_type": "skip"
    }
   },
   "outputs": [],
   "source": []
  },
  {
   "cell_type": "code",
   "execution_count": 19,
   "metadata": {
    "slideshow": {
     "slide_type": "skip"
    }
   },
   "outputs": [],
   "source": [
    "import time"
   ]
  },
  {
   "cell_type": "code",
   "execution_count": 20,
   "metadata": {
    "slideshow": {
     "slide_type": "skip"
    }
   },
   "outputs": [
    {
     "name": "stdout",
     "output_type": "stream",
     "text": [
      "0\n",
      "1\n",
      "2\n",
      "3\n",
      "4\n"
     ]
    }
   ],
   "source": [
    "for i in range(5):\n",
    "    time.sleep(.2)\n",
    "    print(i)"
   ]
  },
  {
   "cell_type": "code",
   "execution_count": 21,
   "metadata": {
    "slideshow": {
     "slide_type": "skip"
    }
   },
   "outputs": [
    {
     "name": "stdout",
     "output_type": "stream",
     "text": [
      "I waited 5 seconds and only got this crappy message...\n"
     ]
    }
   ],
   "source": [
    "delay = 5\n",
    "time.sleep(delay)\n",
    "print(f\"I waited {delay} seconds and only got this crappy message...\")"
   ]
  },
  {
   "cell_type": "code",
   "execution_count": 22,
   "metadata": {
    "slideshow": {
     "slide_type": "skip"
    }
   },
   "outputs": [
    {
     "data": {
      "text/plain": [
       "3"
      ]
     },
     "execution_count": 22,
     "metadata": {},
     "output_type": "execute_result"
    }
   ],
   "source": [
    "1 + 2"
   ]
  },
  {
   "cell_type": "code",
   "execution_count": 23,
   "metadata": {
    "slideshow": {
     "slide_type": "skip"
    }
   },
   "outputs": [
    {
     "data": {
      "text/plain": [
       "6"
      ]
     },
     "execution_count": 23,
     "metadata": {},
     "output_type": "execute_result"
    }
   ],
   "source": [
    "_ + 3"
   ]
  },
  {
   "cell_type": "code",
   "execution_count": 24,
   "metadata": {
    "slideshow": {
     "slide_type": "skip"
    }
   },
   "outputs": [
    {
     "data": {
      "text/plain": [
       "True"
      ]
     },
     "execution_count": 24,
     "metadata": {},
     "output_type": "execute_result"
    }
   ],
   "source": [
    "_16 == Out[16]"
   ]
  },
  {
   "cell_type": "code",
   "execution_count": 25,
   "metadata": {
    "slideshow": {
     "slide_type": "skip"
    }
   },
   "outputs": [
    {
     "data": {
      "text/plain": [
       "\"get_ipython().system('ipython profile locate')\""
      ]
     },
     "execution_count": 25,
     "metadata": {},
     "output_type": "execute_result"
    }
   ],
   "source": [
    "In[17]"
   ]
  },
  {
   "cell_type": "code",
   "execution_count": 26,
   "metadata": {
    "slideshow": {
     "slide_type": "skip"
    }
   },
   "outputs": [
    {
     "name": "stdout",
     "output_type": "stream",
     "text": [
      "   1:\n",
      "some_global_variable = 6\n",
      "\n",
      "def my_function(arg):\n",
      "    \"\"\"This is a docstring.\"\"\"\n",
      "    some_global_variable = 1\n",
      "        \n",
      "    return some_global_variable\n",
      "   2: print(my_function(5))\n",
      "   3: some_global_variable\n",
      "   4: int?\n",
      "   5: *int*?\n"
     ]
    }
   ],
   "source": [
    "%history -n 1-5"
   ]
  },
  {
   "cell_type": "markdown",
   "metadata": {
    "slideshow": {
     "slide_type": "skip"
    }
   },
   "source": [
    "---"
   ]
  },
  {
   "cell_type": "markdown",
   "metadata": {
    "collapsed": true,
    "slideshow": {
     "slide_type": "skip"
    }
   },
   "source": [
    "[Go Back Up](http://localhost:8888/notebooks/Notebooks/DFW_Pythoneers/2017-03-Presentation-Jupyter-Notebook.ipynb#Raw:)"
   ]
  },
  {
   "cell_type": "raw",
   "metadata": {
    "collapsed": true,
    "slideshow": {
     "slide_type": "skip"
    }
   },
   "source": [
    "The cell below this contains \"<a id='another_cell'></a>\" which becomes invisible when rendered in Markdown. This cell is of type RAW, so I can type anything here and not worry about escaping it."
   ]
  },
  {
   "cell_type": "markdown",
   "metadata": {
    "collapsed": true,
    "slideshow": {
     "slide_type": "skip"
    }
   },
   "source": [
    "<a id='the_last_cell'></a>"
   ]
  }
 ],
 "metadata": {
  "celltoolbar": "Slideshow",
  "kernelspec": {
   "display_name": "Python 3",
   "language": "python",
   "name": "python3"
  },
  "language_info": {
   "codemirror_mode": {
    "name": "ipython",
    "version": 3
   },
   "file_extension": ".py",
   "mimetype": "text/x-python",
   "name": "python",
   "nbconvert_exporter": "python",
   "pygments_lexer": "ipython3",
   "version": "3.7.1"
  },
  "toc": {
   "base_numbering": 1,
   "nav_menu": {},
   "number_sections": false,
   "sideBar": false,
   "skip_h1_title": false,
   "title_cell": "Table of Contents",
   "title_sidebar": "Contents",
   "toc_cell": false,
   "toc_position": {},
   "toc_section_display": false,
   "toc_window_display": false
  }
 },
 "nbformat": 4,
 "nbformat_minor": 2
}
