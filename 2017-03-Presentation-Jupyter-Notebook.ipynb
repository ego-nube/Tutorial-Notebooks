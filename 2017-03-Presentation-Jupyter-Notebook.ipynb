{
 "cells": [
  {
   "cell_type": "markdown",
   "metadata": {
    "collapsed": true,
    "slideshow": {
     "slide_type": "slide"
    }
   },
   "source": [
    "<img src=\"resources/jupyter-main-logo.svg\" alt=\"Jupyter\" height=\"200\" width=\"200\">\n",
    "<h1 align=\"center\">Jupyter Notebook Introduction</h1>"
   ]
  },
  {
   "cell_type": "markdown",
   "metadata": {
    "collapsed": true,
    "slideshow": {
     "slide_type": "slide"
    }
   },
   "source": [
    "## History\n",
    "\n",
    "### IPython\n",
    "* Initial Release: 2001\n",
    "* \"Command shell for interactive computing in multiple programming languages.\" [Wikipedia.org](https://en.wikipedia.org/wiki/IPython)\n",
    "* Interactive, parallelism, history, environment, [etc...](http://ipython.readthedocs.io)\n",
    "\n",
    "### Notebook\n",
    "* Interactive computing environment.\n",
    "* HTML / JavaScript with a kernel ([Python](https://www.python.org/) (default), [R](https://www.r-project.org/), [Julia](http://julialang.org/), [Haskell](https://www.haskell.org/), [103 more...](https://github.com/jupyter/jupyter/wiki/Jupyter-kernels)).\n",
    "* [JSON](http://www.json.org/) (orderd list of input/output cells)\n",
    "* May contain live code, text, mathematics, plot, and rich media.\n",
    "* Built on [IPython](https://ipython.org/), [ØMQ](http://zeromq.org/), [Tornado](http://www.tornadoweb.org), [jQuery](https://jquery.com/), [Bootstrap](http://getbootstrap.com/), and [MathJax](https://www.mathjax.org/).\n",
    "\n",
    "#### Modes:\n",
    "\n",
    "* Command\n",
    "* Edit"
   ]
  },
  {
   "cell_type": "markdown",
   "metadata": {
    "slideshow": {
     "slide_type": "slide"
    }
   },
   "source": [
    "## Shortcuts\n",
    "\n",
    "### Navigation\n",
    "\n",
    "|Key(s)|Action|\n",
    "|:-:|:---|\n",
    "| H | show shortcut menu |\n",
    "| A | add cell *above*|\n",
    "| B | add cell *below* |\n",
    "| M | markdown cell |\n",
    "| Y | code cell |\n",
    "| DD | delete cell |\n",
    "| Shift + Enter | run cell on move to next |\n",
    "| Ctrl + Enter | run cell on remain |\n",
    "| Alt + Enter | run cell and move to newly created cell |"
   ]
  },
  {
   "cell_type": "markdown",
   "metadata": {
    "slideshow": {
     "slide_type": "slide"
    }
   },
   "source": [
    "### Editing\n",
    "\n",
    "|Key(s)|Action|\n",
    "|:-:|:---|\n",
    "| Enter | go into insert mode |\n",
    "| Escape | exit insert mode |\n",
    "| Tab | code completion |\n",
    "| Shift + Tab | tooltips (3 versions) |\n",
    "| Ctrl + S | save |"
   ]
  },
  {
   "cell_type": "markdown",
   "metadata": {
    "slideshow": {
     "slide_type": "slide"
    }
   },
   "source": [
    "### Markdown:\n",
    "\n",
    "* Headings (#)\n",
    "\n",
    "* Lists (*)\n",
    "\n",
    "* Blockquote\n",
    "> This is an example.\n",
    "\n",
    "* Horizontal Rule (---)\n",
    "\n",
    "---\n",
    "\n",
    "* Embedded code (three backticks) ```--> this text is inline code```\n",
    "\n",
    "```python\n",
    "def my_function():\n",
    "    \"\"\"My syntax is highlighted for the Python language.\"\"\"\n",
    "    pass\n",
    "```\n",
    "\n",
    "* LaTeX $e^{i\\pi} + 1 = 0$\n",
    "\n",
    "$F(k) = \\int_{-\\infty}^{\\infty} f(x) e^{2\\pi i k} dx$\n",
    "---\n",
    "\n",
    "* External links: ```[name](https://some_website.com)```\n",
    "* Internal links: ```[name](#the_last_cell)``` [Example](#the_last_cell)"
   ]
  },
  {
   "cell_type": "markdown",
   "metadata": {
    "slideshow": {
     "slide_type": "slide"
    }
   },
   "source": [
    "### Raw:"
   ]
  },
  {
   "cell_type": "raw",
   "metadata": {
    "slideshow": {
     "slide_type": "-"
    }
   },
   "source": [
    "this is a raw cell `~!@#$%^&*()[]\\{}|;':\",./<>?"
   ]
  },
  {
   "cell_type": "markdown",
   "metadata": {
    "slideshow": {
     "slide_type": "slide"
    }
   },
   "source": [
    "### Code:"
   ]
  },
  {
   "cell_type": "code",
   "execution_count": 35,
   "metadata": {
    "slideshow": {
     "slide_type": "-"
    }
   },
   "outputs": [],
   "source": [
    "some_global_variable = 6\n",
    "\n",
    "def my_function(arg):\n",
    "    \"\"\"This is a docstring.\"\"\"\n",
    "    some_global_variable = 1\n",
    "        \n",
    "    return some_global_variable"
   ]
  },
  {
   "cell_type": "code",
   "execution_count": 36,
   "metadata": {
    "slideshow": {
     "slide_type": "-"
    }
   },
   "outputs": [
    {
     "name": "stdout",
     "output_type": "stream",
     "text": [
      "1\n"
     ]
    }
   ],
   "source": [
    "print(my_function(5))"
   ]
  },
  {
   "cell_type": "code",
   "execution_count": 37,
   "metadata": {
    "slideshow": {
     "slide_type": "-"
    }
   },
   "outputs": [
    {
     "data": {
      "text/plain": [
       "6"
      ]
     },
     "execution_count": 37,
     "metadata": {},
     "output_type": "execute_result"
    }
   ],
   "source": [
    "some_global_variable"
   ]
  },
  {
   "cell_type": "markdown",
   "metadata": {
    "slideshow": {
     "slide_type": "skip"
    }
   },
   "source": [
    "---"
   ]
  },
  {
   "cell_type": "markdown",
   "metadata": {
    "collapsed": true,
    "slideshow": {
     "slide_type": "slide"
    }
   },
   "source": [
    "### Magic\n",
    "\n",
    "* ```%``` or ```%%```\n",
    "* debug, time, timeit, run, and more..."
   ]
  },
  {
   "cell_type": "code",
   "execution_count": 4,
   "metadata": {
    "slideshow": {
     "slide_type": "-"
    }
   },
   "outputs": [
    {
     "name": "stdout",
     "output_type": "stream",
     "text": [
      "Wall time: 5.52 s\n"
     ]
    }
   ],
   "source": [
    "%time some_list = [x**x for x in range(9001)]"
   ]
  },
  {
   "cell_type": "code",
   "execution_count": 12,
   "metadata": {
    "slideshow": {
     "slide_type": "-"
    }
   },
   "outputs": [
    {
     "name": "stdout",
     "output_type": "stream",
     "text": [
      "[sudo] password for r: \n",
      "\n"
     ]
    }
   ],
   "source": [
    "!sudo python3.6 -m pip install matplotlib"
   ]
  },
  {
   "cell_type": "code",
   "execution_count": 39,
   "metadata": {
    "slideshow": {
     "slide_type": "slide"
    }
   },
   "outputs": [
    {
     "data": {
      "application/javascript": [
       "/* Put everything inside the global mpl namespace */\n",
       "window.mpl = {};\n",
       "\n",
       "\n",
       "mpl.get_websocket_type = function() {\n",
       "    if (typeof(WebSocket) !== 'undefined') {\n",
       "        return WebSocket;\n",
       "    } else if (typeof(MozWebSocket) !== 'undefined') {\n",
       "        return MozWebSocket;\n",
       "    } else {\n",
       "        alert('Your browser does not have WebSocket support.' +\n",
       "              'Please try Chrome, Safari or Firefox ≥ 6. ' +\n",
       "              'Firefox 4 and 5 are also supported but you ' +\n",
       "              'have to enable WebSockets in about:config.');\n",
       "    };\n",
       "}\n",
       "\n",
       "mpl.figure = function(figure_id, websocket, ondownload, parent_element) {\n",
       "    this.id = figure_id;\n",
       "\n",
       "    this.ws = websocket;\n",
       "\n",
       "    this.supports_binary = (this.ws.binaryType != undefined);\n",
       "\n",
       "    if (!this.supports_binary) {\n",
       "        var warnings = document.getElementById(\"mpl-warnings\");\n",
       "        if (warnings) {\n",
       "            warnings.style.display = 'block';\n",
       "            warnings.textContent = (\n",
       "                \"This browser does not support binary websocket messages. \" +\n",
       "                    \"Performance may be slow.\");\n",
       "        }\n",
       "    }\n",
       "\n",
       "    this.imageObj = new Image();\n",
       "\n",
       "    this.context = undefined;\n",
       "    this.message = undefined;\n",
       "    this.canvas = undefined;\n",
       "    this.rubberband_canvas = undefined;\n",
       "    this.rubberband_context = undefined;\n",
       "    this.format_dropdown = undefined;\n",
       "\n",
       "    this.image_mode = 'full';\n",
       "\n",
       "    this.root = $('<div/>');\n",
       "    this._root_extra_style(this.root)\n",
       "    this.root.attr('style', 'display: inline-block');\n",
       "\n",
       "    $(parent_element).append(this.root);\n",
       "\n",
       "    this._init_header(this);\n",
       "    this._init_canvas(this);\n",
       "    this._init_toolbar(this);\n",
       "\n",
       "    var fig = this;\n",
       "\n",
       "    this.waiting = false;\n",
       "\n",
       "    this.ws.onopen =  function () {\n",
       "            fig.send_message(\"supports_binary\", {value: fig.supports_binary});\n",
       "            fig.send_message(\"send_image_mode\", {});\n",
       "            if (mpl.ratio != 1) {\n",
       "                fig.send_message(\"set_dpi_ratio\", {'dpi_ratio': mpl.ratio});\n",
       "            }\n",
       "            fig.send_message(\"refresh\", {});\n",
       "        }\n",
       "\n",
       "    this.imageObj.onload = function() {\n",
       "            if (fig.image_mode == 'full') {\n",
       "                // Full images could contain transparency (where diff images\n",
       "                // almost always do), so we need to clear the canvas so that\n",
       "                // there is no ghosting.\n",
       "                fig.context.clearRect(0, 0, fig.canvas.width, fig.canvas.height);\n",
       "            }\n",
       "            fig.context.drawImage(fig.imageObj, 0, 0);\n",
       "        };\n",
       "\n",
       "    this.imageObj.onunload = function() {\n",
       "        fig.ws.close();\n",
       "    }\n",
       "\n",
       "    this.ws.onmessage = this._make_on_message_function(this);\n",
       "\n",
       "    this.ondownload = ondownload;\n",
       "}\n",
       "\n",
       "mpl.figure.prototype._init_header = function() {\n",
       "    var titlebar = $(\n",
       "        '<div class=\"ui-dialog-titlebar ui-widget-header ui-corner-all ' +\n",
       "        'ui-helper-clearfix\"/>');\n",
       "    var titletext = $(\n",
       "        '<div class=\"ui-dialog-title\" style=\"width: 100%; ' +\n",
       "        'text-align: center; padding: 3px;\"/>');\n",
       "    titlebar.append(titletext)\n",
       "    this.root.append(titlebar);\n",
       "    this.header = titletext[0];\n",
       "}\n",
       "\n",
       "\n",
       "\n",
       "mpl.figure.prototype._canvas_extra_style = function(canvas_div) {\n",
       "\n",
       "}\n",
       "\n",
       "\n",
       "mpl.figure.prototype._root_extra_style = function(canvas_div) {\n",
       "\n",
       "}\n",
       "\n",
       "mpl.figure.prototype._init_canvas = function() {\n",
       "    var fig = this;\n",
       "\n",
       "    var canvas_div = $('<div/>');\n",
       "\n",
       "    canvas_div.attr('style', 'position: relative; clear: both; outline: 0');\n",
       "\n",
       "    function canvas_keyboard_event(event) {\n",
       "        return fig.key_event(event, event['data']);\n",
       "    }\n",
       "\n",
       "    canvas_div.keydown('key_press', canvas_keyboard_event);\n",
       "    canvas_div.keyup('key_release', canvas_keyboard_event);\n",
       "    this.canvas_div = canvas_div\n",
       "    this._canvas_extra_style(canvas_div)\n",
       "    this.root.append(canvas_div);\n",
       "\n",
       "    var canvas = $('<canvas/>');\n",
       "    canvas.addClass('mpl-canvas');\n",
       "    canvas.attr('style', \"left: 0; top: 0; z-index: 0; outline: 0\")\n",
       "\n",
       "    this.canvas = canvas[0];\n",
       "    this.context = canvas[0].getContext(\"2d\");\n",
       "\n",
       "    var backingStore = this.context.backingStorePixelRatio ||\n",
       "\tthis.context.webkitBackingStorePixelRatio ||\n",
       "\tthis.context.mozBackingStorePixelRatio ||\n",
       "\tthis.context.msBackingStorePixelRatio ||\n",
       "\tthis.context.oBackingStorePixelRatio ||\n",
       "\tthis.context.backingStorePixelRatio || 1;\n",
       "\n",
       "    mpl.ratio = (window.devicePixelRatio || 1) / backingStore;\n",
       "\n",
       "    var rubberband = $('<canvas/>');\n",
       "    rubberband.attr('style', \"position: absolute; left: 0; top: 0; z-index: 1;\")\n",
       "\n",
       "    var pass_mouse_events = true;\n",
       "\n",
       "    canvas_div.resizable({\n",
       "        start: function(event, ui) {\n",
       "            pass_mouse_events = false;\n",
       "        },\n",
       "        resize: function(event, ui) {\n",
       "            fig.request_resize(ui.size.width, ui.size.height);\n",
       "        },\n",
       "        stop: function(event, ui) {\n",
       "            pass_mouse_events = true;\n",
       "            fig.request_resize(ui.size.width, ui.size.height);\n",
       "        },\n",
       "    });\n",
       "\n",
       "    function mouse_event_fn(event) {\n",
       "        if (pass_mouse_events)\n",
       "            return fig.mouse_event(event, event['data']);\n",
       "    }\n",
       "\n",
       "    rubberband.mousedown('button_press', mouse_event_fn);\n",
       "    rubberband.mouseup('button_release', mouse_event_fn);\n",
       "    // Throttle sequential mouse events to 1 every 20ms.\n",
       "    rubberband.mousemove('motion_notify', mouse_event_fn);\n",
       "\n",
       "    rubberband.mouseenter('figure_enter', mouse_event_fn);\n",
       "    rubberband.mouseleave('figure_leave', mouse_event_fn);\n",
       "\n",
       "    canvas_div.on(\"wheel\", function (event) {\n",
       "        event = event.originalEvent;\n",
       "        event['data'] = 'scroll'\n",
       "        if (event.deltaY < 0) {\n",
       "            event.step = 1;\n",
       "        } else {\n",
       "            event.step = -1;\n",
       "        }\n",
       "        mouse_event_fn(event);\n",
       "    });\n",
       "\n",
       "    canvas_div.append(canvas);\n",
       "    canvas_div.append(rubberband);\n",
       "\n",
       "    this.rubberband = rubberband;\n",
       "    this.rubberband_canvas = rubberband[0];\n",
       "    this.rubberband_context = rubberband[0].getContext(\"2d\");\n",
       "    this.rubberband_context.strokeStyle = \"#000000\";\n",
       "\n",
       "    this._resize_canvas = function(width, height) {\n",
       "        // Keep the size of the canvas, canvas container, and rubber band\n",
       "        // canvas in synch.\n",
       "        canvas_div.css('width', width)\n",
       "        canvas_div.css('height', height)\n",
       "\n",
       "        canvas.attr('width', width * mpl.ratio);\n",
       "        canvas.attr('height', height * mpl.ratio);\n",
       "        canvas.attr('style', 'width: ' + width + 'px; height: ' + height + 'px;');\n",
       "\n",
       "        rubberband.attr('width', width);\n",
       "        rubberband.attr('height', height);\n",
       "    }\n",
       "\n",
       "    // Set the figure to an initial 600x600px, this will subsequently be updated\n",
       "    // upon first draw.\n",
       "    this._resize_canvas(600, 600);\n",
       "\n",
       "    // Disable right mouse context menu.\n",
       "    $(this.rubberband_canvas).bind(\"contextmenu\",function(e){\n",
       "        return false;\n",
       "    });\n",
       "\n",
       "    function set_focus () {\n",
       "        canvas.focus();\n",
       "        canvas_div.focus();\n",
       "    }\n",
       "\n",
       "    window.setTimeout(set_focus, 100);\n",
       "}\n",
       "\n",
       "mpl.figure.prototype._init_toolbar = function() {\n",
       "    var fig = this;\n",
       "\n",
       "    var nav_element = $('<div/>')\n",
       "    nav_element.attr('style', 'width: 100%');\n",
       "    this.root.append(nav_element);\n",
       "\n",
       "    // Define a callback function for later on.\n",
       "    function toolbar_event(event) {\n",
       "        return fig.toolbar_button_onclick(event['data']);\n",
       "    }\n",
       "    function toolbar_mouse_event(event) {\n",
       "        return fig.toolbar_button_onmouseover(event['data']);\n",
       "    }\n",
       "\n",
       "    for(var toolbar_ind in mpl.toolbar_items) {\n",
       "        var name = mpl.toolbar_items[toolbar_ind][0];\n",
       "        var tooltip = mpl.toolbar_items[toolbar_ind][1];\n",
       "        var image = mpl.toolbar_items[toolbar_ind][2];\n",
       "        var method_name = mpl.toolbar_items[toolbar_ind][3];\n",
       "\n",
       "        if (!name) {\n",
       "            // put a spacer in here.\n",
       "            continue;\n",
       "        }\n",
       "        var button = $('<button/>');\n",
       "        button.addClass('ui-button ui-widget ui-state-default ui-corner-all ' +\n",
       "                        'ui-button-icon-only');\n",
       "        button.attr('role', 'button');\n",
       "        button.attr('aria-disabled', 'false');\n",
       "        button.click(method_name, toolbar_event);\n",
       "        button.mouseover(tooltip, toolbar_mouse_event);\n",
       "\n",
       "        var icon_img = $('<span/>');\n",
       "        icon_img.addClass('ui-button-icon-primary ui-icon');\n",
       "        icon_img.addClass(image);\n",
       "        icon_img.addClass('ui-corner-all');\n",
       "\n",
       "        var tooltip_span = $('<span/>');\n",
       "        tooltip_span.addClass('ui-button-text');\n",
       "        tooltip_span.html(tooltip);\n",
       "\n",
       "        button.append(icon_img);\n",
       "        button.append(tooltip_span);\n",
       "\n",
       "        nav_element.append(button);\n",
       "    }\n",
       "\n",
       "    var fmt_picker_span = $('<span/>');\n",
       "\n",
       "    var fmt_picker = $('<select/>');\n",
       "    fmt_picker.addClass('mpl-toolbar-option ui-widget ui-widget-content');\n",
       "    fmt_picker_span.append(fmt_picker);\n",
       "    nav_element.append(fmt_picker_span);\n",
       "    this.format_dropdown = fmt_picker[0];\n",
       "\n",
       "    for (var ind in mpl.extensions) {\n",
       "        var fmt = mpl.extensions[ind];\n",
       "        var option = $(\n",
       "            '<option/>', {selected: fmt === mpl.default_extension}).html(fmt);\n",
       "        fmt_picker.append(option)\n",
       "    }\n",
       "\n",
       "    // Add hover states to the ui-buttons\n",
       "    $( \".ui-button\" ).hover(\n",
       "        function() { $(this).addClass(\"ui-state-hover\");},\n",
       "        function() { $(this).removeClass(\"ui-state-hover\");}\n",
       "    );\n",
       "\n",
       "    var status_bar = $('<span class=\"mpl-message\"/>');\n",
       "    nav_element.append(status_bar);\n",
       "    this.message = status_bar[0];\n",
       "}\n",
       "\n",
       "mpl.figure.prototype.request_resize = function(x_pixels, y_pixels) {\n",
       "    // Request matplotlib to resize the figure. Matplotlib will then trigger a resize in the client,\n",
       "    // which will in turn request a refresh of the image.\n",
       "    this.send_message('resize', {'width': x_pixels, 'height': y_pixels});\n",
       "}\n",
       "\n",
       "mpl.figure.prototype.send_message = function(type, properties) {\n",
       "    properties['type'] = type;\n",
       "    properties['figure_id'] = this.id;\n",
       "    this.ws.send(JSON.stringify(properties));\n",
       "}\n",
       "\n",
       "mpl.figure.prototype.send_draw_message = function() {\n",
       "    if (!this.waiting) {\n",
       "        this.waiting = true;\n",
       "        this.ws.send(JSON.stringify({type: \"draw\", figure_id: this.id}));\n",
       "    }\n",
       "}\n",
       "\n",
       "\n",
       "mpl.figure.prototype.handle_save = function(fig, msg) {\n",
       "    var format_dropdown = fig.format_dropdown;\n",
       "    var format = format_dropdown.options[format_dropdown.selectedIndex].value;\n",
       "    fig.ondownload(fig, format);\n",
       "}\n",
       "\n",
       "\n",
       "mpl.figure.prototype.handle_resize = function(fig, msg) {\n",
       "    var size = msg['size'];\n",
       "    if (size[0] != fig.canvas.width || size[1] != fig.canvas.height) {\n",
       "        fig._resize_canvas(size[0], size[1]);\n",
       "        fig.send_message(\"refresh\", {});\n",
       "    };\n",
       "}\n",
       "\n",
       "mpl.figure.prototype.handle_rubberband = function(fig, msg) {\n",
       "    var x0 = msg['x0'] / mpl.ratio;\n",
       "    var y0 = (fig.canvas.height - msg['y0']) / mpl.ratio;\n",
       "    var x1 = msg['x1'] / mpl.ratio;\n",
       "    var y1 = (fig.canvas.height - msg['y1']) / mpl.ratio;\n",
       "    x0 = Math.floor(x0) + 0.5;\n",
       "    y0 = Math.floor(y0) + 0.5;\n",
       "    x1 = Math.floor(x1) + 0.5;\n",
       "    y1 = Math.floor(y1) + 0.5;\n",
       "    var min_x = Math.min(x0, x1);\n",
       "    var min_y = Math.min(y0, y1);\n",
       "    var width = Math.abs(x1 - x0);\n",
       "    var height = Math.abs(y1 - y0);\n",
       "\n",
       "    fig.rubberband_context.clearRect(\n",
       "        0, 0, fig.canvas.width, fig.canvas.height);\n",
       "\n",
       "    fig.rubberband_context.strokeRect(min_x, min_y, width, height);\n",
       "}\n",
       "\n",
       "mpl.figure.prototype.handle_figure_label = function(fig, msg) {\n",
       "    // Updates the figure title.\n",
       "    fig.header.textContent = msg['label'];\n",
       "}\n",
       "\n",
       "mpl.figure.prototype.handle_cursor = function(fig, msg) {\n",
       "    var cursor = msg['cursor'];\n",
       "    switch(cursor)\n",
       "    {\n",
       "    case 0:\n",
       "        cursor = 'pointer';\n",
       "        break;\n",
       "    case 1:\n",
       "        cursor = 'default';\n",
       "        break;\n",
       "    case 2:\n",
       "        cursor = 'crosshair';\n",
       "        break;\n",
       "    case 3:\n",
       "        cursor = 'move';\n",
       "        break;\n",
       "    }\n",
       "    fig.rubberband_canvas.style.cursor = cursor;\n",
       "}\n",
       "\n",
       "mpl.figure.prototype.handle_message = function(fig, msg) {\n",
       "    fig.message.textContent = msg['message'];\n",
       "}\n",
       "\n",
       "mpl.figure.prototype.handle_draw = function(fig, msg) {\n",
       "    // Request the server to send over a new figure.\n",
       "    fig.send_draw_message();\n",
       "}\n",
       "\n",
       "mpl.figure.prototype.handle_image_mode = function(fig, msg) {\n",
       "    fig.image_mode = msg['mode'];\n",
       "}\n",
       "\n",
       "mpl.figure.prototype.updated_canvas_event = function() {\n",
       "    // Called whenever the canvas gets updated.\n",
       "    this.send_message(\"ack\", {});\n",
       "}\n",
       "\n",
       "// A function to construct a web socket function for onmessage handling.\n",
       "// Called in the figure constructor.\n",
       "mpl.figure.prototype._make_on_message_function = function(fig) {\n",
       "    return function socket_on_message(evt) {\n",
       "        if (evt.data instanceof Blob) {\n",
       "            /* FIXME: We get \"Resource interpreted as Image but\n",
       "             * transferred with MIME type text/plain:\" errors on\n",
       "             * Chrome.  But how to set the MIME type?  It doesn't seem\n",
       "             * to be part of the websocket stream */\n",
       "            evt.data.type = \"image/png\";\n",
       "\n",
       "            /* Free the memory for the previous frames */\n",
       "            if (fig.imageObj.src) {\n",
       "                (window.URL || window.webkitURL).revokeObjectURL(\n",
       "                    fig.imageObj.src);\n",
       "            }\n",
       "\n",
       "            fig.imageObj.src = (window.URL || window.webkitURL).createObjectURL(\n",
       "                evt.data);\n",
       "            fig.updated_canvas_event();\n",
       "            fig.waiting = false;\n",
       "            return;\n",
       "        }\n",
       "        else if (typeof evt.data === 'string' && evt.data.slice(0, 21) == \"data:image/png;base64\") {\n",
       "            fig.imageObj.src = evt.data;\n",
       "            fig.updated_canvas_event();\n",
       "            fig.waiting = false;\n",
       "            return;\n",
       "        }\n",
       "\n",
       "        var msg = JSON.parse(evt.data);\n",
       "        var msg_type = msg['type'];\n",
       "\n",
       "        // Call the  \"handle_{type}\" callback, which takes\n",
       "        // the figure and JSON message as its only arguments.\n",
       "        try {\n",
       "            var callback = fig[\"handle_\" + msg_type];\n",
       "        } catch (e) {\n",
       "            console.log(\"No handler for the '\" + msg_type + \"' message type: \", msg);\n",
       "            return;\n",
       "        }\n",
       "\n",
       "        if (callback) {\n",
       "            try {\n",
       "                // console.log(\"Handling '\" + msg_type + \"' message: \", msg);\n",
       "                callback(fig, msg);\n",
       "            } catch (e) {\n",
       "                console.log(\"Exception inside the 'handler_\" + msg_type + \"' callback:\", e, e.stack, msg);\n",
       "            }\n",
       "        }\n",
       "    };\n",
       "}\n",
       "\n",
       "// from http://stackoverflow.com/questions/1114465/getting-mouse-location-in-canvas\n",
       "mpl.findpos = function(e) {\n",
       "    //this section is from http://www.quirksmode.org/js/events_properties.html\n",
       "    var targ;\n",
       "    if (!e)\n",
       "        e = window.event;\n",
       "    if (e.target)\n",
       "        targ = e.target;\n",
       "    else if (e.srcElement)\n",
       "        targ = e.srcElement;\n",
       "    if (targ.nodeType == 3) // defeat Safari bug\n",
       "        targ = targ.parentNode;\n",
       "\n",
       "    // jQuery normalizes the pageX and pageY\n",
       "    // pageX,Y are the mouse positions relative to the document\n",
       "    // offset() returns the position of the element relative to the document\n",
       "    var x = e.pageX - $(targ).offset().left;\n",
       "    var y = e.pageY - $(targ).offset().top;\n",
       "\n",
       "    return {\"x\": x, \"y\": y};\n",
       "};\n",
       "\n",
       "/*\n",
       " * return a copy of an object with only non-object keys\n",
       " * we need this to avoid circular references\n",
       " * http://stackoverflow.com/a/24161582/3208463\n",
       " */\n",
       "function simpleKeys (original) {\n",
       "  return Object.keys(original).reduce(function (obj, key) {\n",
       "    if (typeof original[key] !== 'object')\n",
       "        obj[key] = original[key]\n",
       "    return obj;\n",
       "  }, {});\n",
       "}\n",
       "\n",
       "mpl.figure.prototype.mouse_event = function(event, name) {\n",
       "    var canvas_pos = mpl.findpos(event)\n",
       "\n",
       "    if (name === 'button_press')\n",
       "    {\n",
       "        this.canvas.focus();\n",
       "        this.canvas_div.focus();\n",
       "    }\n",
       "\n",
       "    var x = canvas_pos.x * mpl.ratio;\n",
       "    var y = canvas_pos.y * mpl.ratio;\n",
       "\n",
       "    this.send_message(name, {x: x, y: y, button: event.button,\n",
       "                             step: event.step,\n",
       "                             guiEvent: simpleKeys(event)});\n",
       "\n",
       "    /* This prevents the web browser from automatically changing to\n",
       "     * the text insertion cursor when the button is pressed.  We want\n",
       "     * to control all of the cursor setting manually through the\n",
       "     * 'cursor' event from matplotlib */\n",
       "    event.preventDefault();\n",
       "    return false;\n",
       "}\n",
       "\n",
       "mpl.figure.prototype._key_event_extra = function(event, name) {\n",
       "    // Handle any extra behaviour associated with a key event\n",
       "}\n",
       "\n",
       "mpl.figure.prototype.key_event = function(event, name) {\n",
       "\n",
       "    // Prevent repeat events\n",
       "    if (name == 'key_press')\n",
       "    {\n",
       "        if (event.which === this._key)\n",
       "            return;\n",
       "        else\n",
       "            this._key = event.which;\n",
       "    }\n",
       "    if (name == 'key_release')\n",
       "        this._key = null;\n",
       "\n",
       "    var value = '';\n",
       "    if (event.ctrlKey && event.which != 17)\n",
       "        value += \"ctrl+\";\n",
       "    if (event.altKey && event.which != 18)\n",
       "        value += \"alt+\";\n",
       "    if (event.shiftKey && event.which != 16)\n",
       "        value += \"shift+\";\n",
       "\n",
       "    value += 'k';\n",
       "    value += event.which.toString();\n",
       "\n",
       "    this._key_event_extra(event, name);\n",
       "\n",
       "    this.send_message(name, {key: value,\n",
       "                             guiEvent: simpleKeys(event)});\n",
       "    return false;\n",
       "}\n",
       "\n",
       "mpl.figure.prototype.toolbar_button_onclick = function(name) {\n",
       "    if (name == 'download') {\n",
       "        this.handle_save(this, null);\n",
       "    } else {\n",
       "        this.send_message(\"toolbar_button\", {name: name});\n",
       "    }\n",
       "};\n",
       "\n",
       "mpl.figure.prototype.toolbar_button_onmouseover = function(tooltip) {\n",
       "    this.message.textContent = tooltip;\n",
       "};\n",
       "mpl.toolbar_items = [[\"Home\", \"Reset original view\", \"fa fa-home icon-home\", \"home\"], [\"Back\", \"Back to  previous view\", \"fa fa-arrow-left icon-arrow-left\", \"back\"], [\"Forward\", \"Forward to next view\", \"fa fa-arrow-right icon-arrow-right\", \"forward\"], [\"\", \"\", \"\", \"\"], [\"Pan\", \"Pan axes with left mouse, zoom with right\", \"fa fa-arrows icon-move\", \"pan\"], [\"Zoom\", \"Zoom to rectangle\", \"fa fa-square-o icon-check-empty\", \"zoom\"], [\"\", \"\", \"\", \"\"], [\"Download\", \"Download plot\", \"fa fa-floppy-o icon-save\", \"download\"]];\n",
       "\n",
       "mpl.extensions = [\"eps\", \"pdf\", \"png\", \"ps\", \"raw\", \"svg\"];\n",
       "\n",
       "mpl.default_extension = \"png\";var comm_websocket_adapter = function(comm) {\n",
       "    // Create a \"websocket\"-like object which calls the given IPython comm\n",
       "    // object with the appropriate methods. Currently this is a non binary\n",
       "    // socket, so there is still some room for performance tuning.\n",
       "    var ws = {};\n",
       "\n",
       "    ws.close = function() {\n",
       "        comm.close()\n",
       "    };\n",
       "    ws.send = function(m) {\n",
       "        //console.log('sending', m);\n",
       "        comm.send(m);\n",
       "    };\n",
       "    // Register the callback with on_msg.\n",
       "    comm.on_msg(function(msg) {\n",
       "        //console.log('receiving', msg['content']['data'], msg);\n",
       "        // Pass the mpl event to the overridden (by mpl) onmessage function.\n",
       "        ws.onmessage(msg['content']['data'])\n",
       "    });\n",
       "    return ws;\n",
       "}\n",
       "\n",
       "mpl.mpl_figure_comm = function(comm, msg) {\n",
       "    // This is the function which gets called when the mpl process\n",
       "    // starts-up an IPython Comm through the \"matplotlib\" channel.\n",
       "\n",
       "    var id = msg.content.data.id;\n",
       "    // Get hold of the div created by the display call when the Comm\n",
       "    // socket was opened in Python.\n",
       "    var element = $(\"#\" + id);\n",
       "    var ws_proxy = comm_websocket_adapter(comm)\n",
       "\n",
       "    function ondownload(figure, format) {\n",
       "        window.open(figure.imageObj.src);\n",
       "    }\n",
       "\n",
       "    var fig = new mpl.figure(id, ws_proxy,\n",
       "                           ondownload,\n",
       "                           element.get(0));\n",
       "\n",
       "    // Call onopen now - mpl needs it, as it is assuming we've passed it a real\n",
       "    // web socket which is closed, not our websocket->open comm proxy.\n",
       "    ws_proxy.onopen();\n",
       "\n",
       "    fig.parent_element = element.get(0);\n",
       "    fig.cell_info = mpl.find_output_cell(\"<div id='\" + id + \"'></div>\");\n",
       "    if (!fig.cell_info) {\n",
       "        console.error(\"Failed to find cell for figure\", id, fig);\n",
       "        return;\n",
       "    }\n",
       "\n",
       "    var output_index = fig.cell_info[2]\n",
       "    var cell = fig.cell_info[0];\n",
       "\n",
       "};\n",
       "\n",
       "mpl.figure.prototype.handle_close = function(fig, msg) {\n",
       "    var width = fig.canvas.width/mpl.ratio\n",
       "    fig.root.unbind('remove')\n",
       "\n",
       "    // Update the output cell to use the data from the current canvas.\n",
       "    fig.push_to_output();\n",
       "    var dataURL = fig.canvas.toDataURL();\n",
       "    // Re-enable the keyboard manager in IPython - without this line, in FF,\n",
       "    // the notebook keyboard shortcuts fail.\n",
       "    IPython.keyboard_manager.enable()\n",
       "    $(fig.parent_element).html('<img src=\"' + dataURL + '\" width=\"' + width + '\">');\n",
       "    fig.close_ws(fig, msg);\n",
       "}\n",
       "\n",
       "mpl.figure.prototype.close_ws = function(fig, msg){\n",
       "    fig.send_message('closing', msg);\n",
       "    // fig.ws.close()\n",
       "}\n",
       "\n",
       "mpl.figure.prototype.push_to_output = function(remove_interactive) {\n",
       "    // Turn the data on the canvas into data in the output cell.\n",
       "    var width = this.canvas.width/mpl.ratio\n",
       "    var dataURL = this.canvas.toDataURL();\n",
       "    this.cell_info[1]['text/html'] = '<img src=\"' + dataURL + '\" width=\"' + width + '\">';\n",
       "}\n",
       "\n",
       "mpl.figure.prototype.updated_canvas_event = function() {\n",
       "    // Tell IPython that the notebook contents must change.\n",
       "    IPython.notebook.set_dirty(true);\n",
       "    this.send_message(\"ack\", {});\n",
       "    var fig = this;\n",
       "    // Wait a second, then push the new image to the DOM so\n",
       "    // that it is saved nicely (might be nice to debounce this).\n",
       "    setTimeout(function () { fig.push_to_output() }, 1000);\n",
       "}\n",
       "\n",
       "mpl.figure.prototype._init_toolbar = function() {\n",
       "    var fig = this;\n",
       "\n",
       "    var nav_element = $('<div/>')\n",
       "    nav_element.attr('style', 'width: 100%');\n",
       "    this.root.append(nav_element);\n",
       "\n",
       "    // Define a callback function for later on.\n",
       "    function toolbar_event(event) {\n",
       "        return fig.toolbar_button_onclick(event['data']);\n",
       "    }\n",
       "    function toolbar_mouse_event(event) {\n",
       "        return fig.toolbar_button_onmouseover(event['data']);\n",
       "    }\n",
       "\n",
       "    for(var toolbar_ind in mpl.toolbar_items){\n",
       "        var name = mpl.toolbar_items[toolbar_ind][0];\n",
       "        var tooltip = mpl.toolbar_items[toolbar_ind][1];\n",
       "        var image = mpl.toolbar_items[toolbar_ind][2];\n",
       "        var method_name = mpl.toolbar_items[toolbar_ind][3];\n",
       "\n",
       "        if (!name) { continue; };\n",
       "\n",
       "        var button = $('<button class=\"btn btn-default\" href=\"#\" title=\"' + name + '\"><i class=\"fa ' + image + ' fa-lg\"></i></button>');\n",
       "        button.click(method_name, toolbar_event);\n",
       "        button.mouseover(tooltip, toolbar_mouse_event);\n",
       "        nav_element.append(button);\n",
       "    }\n",
       "\n",
       "    // Add the status bar.\n",
       "    var status_bar = $('<span class=\"mpl-message\" style=\"text-align:right; float: right;\"/>');\n",
       "    nav_element.append(status_bar);\n",
       "    this.message = status_bar[0];\n",
       "\n",
       "    // Add the close button to the window.\n",
       "    var buttongrp = $('<div class=\"btn-group inline pull-right\"></div>');\n",
       "    var button = $('<button class=\"btn btn-mini btn-primary\" href=\"#\" title=\"Stop Interaction\"><i class=\"fa fa-power-off icon-remove icon-large\"></i></button>');\n",
       "    button.click(function (evt) { fig.handle_close(fig, {}); } );\n",
       "    button.mouseover('Stop Interaction', toolbar_mouse_event);\n",
       "    buttongrp.append(button);\n",
       "    var titlebar = this.root.find($('.ui-dialog-titlebar'));\n",
       "    titlebar.prepend(buttongrp);\n",
       "}\n",
       "\n",
       "mpl.figure.prototype._root_extra_style = function(el){\n",
       "    var fig = this\n",
       "    el.on(\"remove\", function(){\n",
       "\tfig.close_ws(fig, {});\n",
       "    });\n",
       "}\n",
       "\n",
       "mpl.figure.prototype._canvas_extra_style = function(el){\n",
       "    // this is important to make the div 'focusable\n",
       "    el.attr('tabindex', 0)\n",
       "    // reach out to IPython and tell the keyboard manager to turn it's self\n",
       "    // off when our div gets focus\n",
       "\n",
       "    // location in version 3\n",
       "    if (IPython.notebook.keyboard_manager) {\n",
       "        IPython.notebook.keyboard_manager.register_events(el);\n",
       "    }\n",
       "    else {\n",
       "        // location in version 2\n",
       "        IPython.keyboard_manager.register_events(el);\n",
       "    }\n",
       "\n",
       "}\n",
       "\n",
       "mpl.figure.prototype._key_event_extra = function(event, name) {\n",
       "    var manager = IPython.notebook.keyboard_manager;\n",
       "    if (!manager)\n",
       "        manager = IPython.keyboard_manager;\n",
       "\n",
       "    // Check for shift+enter\n",
       "    if (event.shiftKey && event.which == 13) {\n",
       "        this.canvas_div.blur();\n",
       "        event.shiftKey = false;\n",
       "        // Send a \"J\" for go to next cell\n",
       "        event.which = 74;\n",
       "        event.keyCode = 74;\n",
       "        manager.command_mode();\n",
       "        manager.handle_keydown(event);\n",
       "    }\n",
       "}\n",
       "\n",
       "mpl.figure.prototype.handle_save = function(fig, msg) {\n",
       "    fig.ondownload(fig, null);\n",
       "}\n",
       "\n",
       "\n",
       "mpl.find_output_cell = function(html_output) {\n",
       "    // Return the cell and output element which can be found *uniquely* in the notebook.\n",
       "    // Note - this is a bit hacky, but it is done because the \"notebook_saving.Notebook\"\n",
       "    // IPython event is triggered only after the cells have been serialised, which for\n",
       "    // our purposes (turning an active figure into a static one), is too late.\n",
       "    var cells = IPython.notebook.get_cells();\n",
       "    var ncells = cells.length;\n",
       "    for (var i=0; i<ncells; i++) {\n",
       "        var cell = cells[i];\n",
       "        if (cell.cell_type === 'code'){\n",
       "            for (var j=0; j<cell.output_area.outputs.length; j++) {\n",
       "                var data = cell.output_area.outputs[j];\n",
       "                if (data.data) {\n",
       "                    // IPython >= 3 moved mimebundle to data attribute of output\n",
       "                    data = data.data;\n",
       "                }\n",
       "                if (data['text/html'] == html_output) {\n",
       "                    return [cell, data, j];\n",
       "                }\n",
       "            }\n",
       "        }\n",
       "    }\n",
       "}\n",
       "\n",
       "// Register the function which deals with the matplotlib target/channel.\n",
       "// The kernel may be null if the page has been refreshed.\n",
       "if (IPython.notebook.kernel != null) {\n",
       "    IPython.notebook.kernel.comm_manager.register_target('matplotlib', mpl.mpl_figure_comm);\n",
       "}\n"
      ],
      "text/plain": [
       "<IPython.core.display.Javascript object>"
      ]
     },
     "metadata": {},
     "output_type": "display_data"
    },
    {
     "data": {
      "text/html": [
       "<img src=\"data:image/png;base64,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\" width=\"639.9999861283738\">"
      ],
      "text/plain": [
       "<IPython.core.display.HTML object>"
      ]
     },
     "metadata": {},
     "output_type": "display_data"
    },
    {
     "data": {
      "text/plain": [
       "<matplotlib.legend.Legend at 0x7fc12340a358>"
      ]
     },
     "execution_count": 39,
     "metadata": {},
     "output_type": "execute_result"
    }
   ],
   "source": [
    "%matplotlib notebook\n",
    "import matplotlib, numpy, pandas, seaborn\n",
    "from matplotlib import pyplot as plt\n",
    "\n",
    "ts = pd.Series(numpy.random.randn(1000), index=pandas.date_range('1/1/2000', periods=1000))\n",
    "ts = ts.cumsum()\n",
    "df = pandas.DataFrame(numpy.random.randn(1000, 4), index=ts.index,\n",
    "                  columns=['A', 'B', 'C', 'D'])\n",
    "df = df.cumsum()\n",
    "df.plot(); plt.legend(loc='best')"
   ]
  },
  {
   "cell_type": "markdown",
   "metadata": {
    "slideshow": {
     "slide_type": "skip"
    }
   },
   "source": [
    "---"
   ]
  },
  {
   "cell_type": "markdown",
   "metadata": {
    "collapsed": true,
    "slideshow": {
     "slide_type": "slide"
    }
   },
   "source": [
    "### Bash"
   ]
  },
  {
   "cell_type": "code",
   "execution_count": 7,
   "metadata": {
    "slideshow": {
     "slide_type": "-"
    }
   },
   "outputs": [
    {
     "name": "stdout",
     "output_type": "stream",
     "text": [
      " Volume in drive C is Windows\n",
      " Volume Serial Number is 6A27-6402\n",
      "\n",
      " Directory of C:\\Users\\randall.white\\Notebooks\\DFW_Pythoneers\n",
      "\n",
      "02/20/2017  12:41 PM    <DIR>          .\n",
      "02/20/2017  12:41 PM    <DIR>          ..\n",
      "02/15/2017  08:21 AM    <DIR>          .ipynb_checkpoints\n",
      "02/15/2017  08:21 AM             5,677 2017-02-15-TUTORIAL-Lexical-Closing.ipynb\n",
      "02/20/2017  12:41 PM            31,411 2017-03-Presentation-Jupyter-Notebook.ipynb\n",
      "               2 File(s)         37,088 bytes\n",
      "               3 Dir(s)  173,638,197,248 bytes free\n"
     ]
    }
   ],
   "source": [
    "!dir"
   ]
  },
  {
   "cell_type": "markdown",
   "metadata": {
    "slideshow": {
     "slide_type": "skip"
    }
   },
   "source": [
    "---"
   ]
  },
  {
   "cell_type": "markdown",
   "metadata": {
    "slideshow": {
     "slide_type": "slide"
    }
   },
   "source": [
    "### HTML"
   ]
  },
  {
   "cell_type": "code",
   "execution_count": 16,
   "metadata": {
    "slideshow": {
     "slide_type": "-"
    }
   },
   "outputs": [
    {
     "data": {
      "text/html": [
       "<style>.container { width:100% !important; }</style>"
      ],
      "text/plain": [
       "<IPython.core.display.HTML object>"
      ]
     },
     "metadata": {},
     "output_type": "display_data"
    }
   ],
   "source": [
    "from IPython.core.display import display, HTML\n",
    "display(HTML(\"<style>.container { width:100% !important; }</style>\"))"
   ]
  },
  {
   "cell_type": "code",
   "execution_count": 17,
   "metadata": {
    "slideshow": {
     "slide_type": "-"
    }
   },
   "outputs": [
    {
     "ename": "FileNotFoundError",
     "evalue": "[Errno 2] No such file or directory: 'style-table.css'",
     "output_type": "error",
     "traceback": [
      "\u001b[0;31m---------------------------------------------------------------------------\u001b[0m",
      "\u001b[0;31mFileNotFoundError\u001b[0m                         Traceback (most recent call last)",
      "\u001b[0;32m<ipython-input-17-6fab06cda22c>\u001b[0m in \u001b[0;36m<module>\u001b[0;34m()\u001b[0m\n\u001b[1;32m      1\u001b[0m \u001b[0;32mfrom\u001b[0m \u001b[0mIPython\u001b[0m\u001b[0;34m.\u001b[0m\u001b[0mcore\u001b[0m\u001b[0;34m.\u001b[0m\u001b[0mdisplay\u001b[0m \u001b[0;32mimport\u001b[0m \u001b[0mHTML\u001b[0m\u001b[0;34m\u001b[0m\u001b[0m\n\u001b[0;32m----> 2\u001b[0;31m \u001b[0mcss\u001b[0m \u001b[0;34m=\u001b[0m \u001b[0mopen\u001b[0m\u001b[0;34m(\u001b[0m\u001b[0;34m'style-table.css'\u001b[0m\u001b[0;34m)\u001b[0m\u001b[0;34m.\u001b[0m\u001b[0mread\u001b[0m\u001b[0;34m(\u001b[0m\u001b[0;34m)\u001b[0m \u001b[0;34m+\u001b[0m \u001b[0mopen\u001b[0m\u001b[0;34m(\u001b[0m\u001b[0;34m'style-notebook.css'\u001b[0m\u001b[0;34m)\u001b[0m\u001b[0;34m.\u001b[0m\u001b[0mread\u001b[0m\u001b[0;34m(\u001b[0m\u001b[0;34m)\u001b[0m\u001b[0;34m\u001b[0m\u001b[0m\n\u001b[0m\u001b[1;32m      3\u001b[0m \u001b[0mHTML\u001b[0m\u001b[0;34m(\u001b[0m\u001b[0;34m'<style>{}</style>'\u001b[0m\u001b[0;34m.\u001b[0m\u001b[0mformat\u001b[0m\u001b[0;34m(\u001b[0m\u001b[0mcss\u001b[0m\u001b[0;34m)\u001b[0m\u001b[0;34m)\u001b[0m\u001b[0;34m\u001b[0m\u001b[0m\n",
      "\u001b[0;31mFileNotFoundError\u001b[0m: [Errno 2] No such file or directory: 'style-table.css'"
     ]
    }
   ],
   "source": [
    "from IPython.core.display import HTML\n",
    "css = open('style-table.css').read() + open('style-notebook.css').read()\n",
    "HTML('<style>{}</style>'.format(css))"
   ]
  },
  {
   "cell_type": "markdown",
   "metadata": {
    "slideshow": {
     "slide_type": "slide"
    }
   },
   "source": [
    "### Embed YouTube videos."
   ]
  },
  {
   "cell_type": "code",
   "execution_count": 18,
   "metadata": {
    "slideshow": {
     "slide_type": "-"
    }
   },
   "outputs": [
    {
     "data": {
      "image/jpeg": "[encoded data removed]",
      "text/html": [
       "\n",
       "        <iframe\n",
       "            width=\"400\"\n",
       "            height=\"300\"\n",
       "            src=\"https://www.youtube.com/embed/HW29067qVWk\"\n",
       "            frameborder=\"0\"\n",
       "            allowfullscreen\n",
       "        ></iframe>\n",
       "        "
      ],
      "text/plain": [
       "<IPython.lib.display.YouTubeVideo at 0x7fc101b27198>"
      ]
     },
     "execution_count": 18,
     "metadata": {},
     "output_type": "execute_result"
    }
   ],
   "source": [
    "from IPython.display import YouTubeVideo\n",
    "YouTubeVideo('HW29067qVWk')"
   ]
  },
  {
   "cell_type": "markdown",
   "metadata": {
    "slideshow": {
     "slide_type": "skip"
    }
   },
   "source": [
    "---"
   ]
  },
  {
   "cell_type": "markdown",
   "metadata": {
    "slideshow": {
     "slide_type": "slide"
    }
   },
   "source": [
    "## Configuration / Environment"
   ]
  },
  {
   "cell_type": "code",
   "execution_count": 19,
   "metadata": {
    "slideshow": {
     "slide_type": "-"
    }
   },
   "outputs": [
    {
     "name": "stdout",
     "output_type": "stream",
     "text": [
      "/home/r/.ipython/profile_default\r\n"
     ]
    }
   ],
   "source": [
    "!ipython profile locate"
   ]
  },
  {
   "cell_type": "code",
   "execution_count": 5,
   "metadata": {
    "collapsed": true,
    "slideshow": {
     "slide_type": "-"
    }
   },
   "outputs": [],
   "source": [
    "# Otherwise run: !ipython profile create\n",
    "\n",
    "# Sample output:\n",
    "\n",
    "# [ProfileCreate] Generating default config file: 'C:\\\\Users\\\\randall.white\\\\.ipython\\\\profile_default\\\\ipython_config.py'\n",
    "# [ProfileCreate] Generating default config file: 'C:\\\\Users\\\\randall.white\\\\.ipython\\\\profile_default\\\\ipython_kernel_config.py'"
   ]
  },
  {
   "cell_type": "markdown",
   "metadata": {
    "collapsed": true,
    "slideshow": {
     "slide_type": "-"
    }
   },
   "source": [
    "### Notebook specific configuration values\n",
    "* Example location in Windows:\n",
    "\n",
    "> C:\\Users\\randall.white\\.jupyter\\jupyter_notebook_config.py"
   ]
  },
  {
   "cell_type": "markdown",
   "metadata": {
    "slideshow": {
     "slide_type": "skip"
    }
   },
   "source": [
    "---"
   ]
  },
  {
   "cell_type": "markdown",
   "metadata": {
    "collapsed": true,
    "slideshow": {
     "slide_type": "slide"
    }
   },
   "source": [
    "### Resources\n",
    "* http://jupyter-notebook.readthedocs.io/en/latest/examples/Notebook/Working%20With%20Markdown%20Cells.html\n",
    "* http://sebastianraschka.com/Articles/2014_ipython_internal_links.html\n",
    "* http://www.datadependence.com/2017/02/speed-up-jupyter-notebook-workflow/\n",
    "* http://jupyter-notebook.readthedocs.io/en/latest/examples/Notebook/What%20is%20the%20Jupyter%20Notebook.html\n",
    "* http://nb.bianp.net/sort/views/\n",
    "* http://nbviewer.jupyter.org/\n",
    "* https://anaconda.org/gallery\n"
   ]
  },
  {
   "cell_type": "markdown",
   "metadata": {
    "slideshow": {
     "slide_type": "skip"
    }
   },
   "source": [
    "---"
   ]
  },
  {
   "cell_type": "code",
   "execution_count": null,
   "metadata": {
    "collapsed": true,
    "slideshow": {
     "slide_type": "skip"
    }
   },
   "outputs": [],
   "source": []
  },
  {
   "cell_type": "code",
   "execution_count": 20,
   "metadata": {
    "slideshow": {
     "slide_type": "skip"
    }
   },
   "outputs": [],
   "source": [
    "import time"
   ]
  },
  {
   "cell_type": "code",
   "execution_count": 22,
   "metadata": {
    "slideshow": {
     "slide_type": "skip"
    }
   },
   "outputs": [
    {
     "name": "stdout",
     "output_type": "stream",
     "text": [
      "0\n",
      "1\n",
      "2\n",
      "3\n",
      "4\n",
      "5\n",
      "6\n",
      "7\n",
      "8\n",
      "9\n"
     ]
    }
   ],
   "source": [
    "for i in range(5):\n",
    "    time.sleep(.5)\n",
    "    print(i)"
   ]
  },
  {
   "cell_type": "code",
   "execution_count": 23,
   "metadata": {
    "slideshow": {
     "slide_type": "skip"
    }
   },
   "outputs": [
    {
     "ename": "KeyboardInterrupt",
     "evalue": "",
     "output_type": "error",
     "traceback": [
      "\u001b[0;31m---------------------------------------------------------------------------\u001b[0m",
      "\u001b[0;31mKeyboardInterrupt\u001b[0m                         Traceback (most recent call last)",
      "\u001b[0;32m<ipython-input-23-0149fd37a56b>\u001b[0m in \u001b[0;36m<module>\u001b[0;34m()\u001b[0m\n\u001b[0;32m----> 1\u001b[0;31m \u001b[0mtime\u001b[0m\u001b[0;34m.\u001b[0m\u001b[0msleep\u001b[0m\u001b[0;34m(\u001b[0m\u001b[0;36m10\u001b[0m\u001b[0;34m)\u001b[0m\u001b[0;34m\u001b[0m\u001b[0m\n\u001b[0m\u001b[1;32m      2\u001b[0m \u001b[0mprint\u001b[0m\u001b[0;34m(\u001b[0m\u001b[0;34m\"I'm waiting to see this...\"\u001b[0m\u001b[0;34m)\u001b[0m\u001b[0;34m\u001b[0m\u001b[0m\n",
      "\u001b[0;31mKeyboardInterrupt\u001b[0m: "
     ]
    }
   ],
   "source": [
    "time.sleep(10)\n",
    "print(\"I'm waiting to see this...\")"
   ]
  },
  {
   "cell_type": "code",
   "execution_count": null,
   "metadata": {
    "collapsed": true
   },
   "outputs": [],
   "source": []
  },
  {
   "cell_type": "code",
   "execution_count": null,
   "metadata": {
    "collapsed": true
   },
   "outputs": [],
   "source": []
  },
  {
   "cell_type": "code",
   "execution_count": null,
   "metadata": {
    "collapsed": true
   },
   "outputs": [],
   "source": []
  },
  {
   "cell_type": "code",
   "execution_count": null,
   "metadata": {
    "collapsed": true
   },
   "outputs": [],
   "source": []
  },
  {
   "cell_type": "code",
   "execution_count": null,
   "metadata": {
    "collapsed": true
   },
   "outputs": [],
   "source": []
  },
  {
   "cell_type": "code",
   "execution_count": null,
   "metadata": {
    "collapsed": true
   },
   "outputs": [],
   "source": []
  },
  {
   "cell_type": "markdown",
   "metadata": {},
   "source": [
    "---"
   ]
  },
  {
   "cell_type": "markdown",
   "metadata": {
    "collapsed": true,
    "slideshow": {
     "slide_type": "skip"
    }
   },
   "source": [
    "[Go Back Up](http://localhost:8888/notebooks/Notebooks/DFW_Pythoneers/2017-03-Presentation-Jupyter-Notebook.ipynb#Raw:)"
   ]
  },
  {
   "cell_type": "raw",
   "metadata": {
    "collapsed": true,
    "slideshow": {
     "slide_type": "skip"
    }
   },
   "source": [
    "The cell below this contains \"<a id='another_cell'></a>\" which becomes invisible when rendered in Markdown. This cell is of type RAW, so I can type anything here and not worry about escaping it."
   ]
  },
  {
   "cell_type": "markdown",
   "metadata": {
    "collapsed": true,
    "slideshow": {
     "slide_type": "skip"
    }
   },
   "source": [
    "<a id='the_last_cell'></a>"
   ]
  }
 ],
 "metadata": {
  "celltoolbar": "Slideshow",
  "kernelspec": {
   "display_name": "Python 3",
   "language": "python",
   "name": "python3"
  },
  "language_info": {
   "codemirror_mode": {
    "name": "ipython",
    "version": 3
   },
   "file_extension": ".py",
   "mimetype": "text/x-python",
   "name": "python",
   "nbconvert_exporter": "python",
   "pygments_lexer": "ipython3",
   "version": "3.6.3"
  }
 },
 "nbformat": 4,
 "nbformat_minor": 2
}
