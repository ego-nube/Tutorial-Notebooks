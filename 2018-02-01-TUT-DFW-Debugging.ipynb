{
 "cells": [
  {
   "cell_type": "markdown",
   "metadata": {},
   "source": [
    "# Debugging"
   ]
  },
  {
   "cell_type": "code",
   "execution_count": null,
   "metadata": {
    "collapsed": true
   },
   "outputs": [],
   "source": [
    "# Get Cheatsheet \n",
    "\n"
   ]
  },
  {
   "cell_type": "code",
   "execution_count": null,
   "metadata": {},
   "outputs": [],
   "source": [
    "def bad_function():\n",
    "    \n",
    "    for i in range(4):\n",
    "        i += 2\n",
    "    \n",
    "    if i == 3:\n",
    "        print('Finished')\n",
    "\n",
    "bad_function()"
   ]
  },
  {
   "cell_type": "markdown",
   "metadata": {},
   "source": [
    "### Print"
   ]
  },
  {
   "cell_type": "code",
   "execution_count": null,
   "metadata": {},
   "outputs": [],
   "source": [
    "def meh_function():\n",
    "    \n",
    "    for i in range(10):\n",
    "        print(i)\n",
    "        i += 2\n",
    "        print(i)\n",
    "    \n",
    "    if i == 10:\n",
    "        print('Finished')\n",
    "\n",
    "meh_function()"
   ]
  },
  {
   "cell_type": "markdown",
   "metadata": {},
   "source": [
    "### Logging"
   ]
  },
  {
   "cell_type": "code",
   "execution_count": null,
   "metadata": {},
   "outputs": [],
   "source": [
    "import logging\n",
    "\n",
    "def main():\n",
    "    logging.basicConfig(filename='sample.log', level=logging.INFO)\n",
    "    \n",
    "    logging.error('Start looping...')\n",
    "    for item in range(10):\n",
    "        item += 1\n",
    "        logging.debug(f'item = {item}')\n",
    "    logging.debug('...end looping.')\n",
    "    \n",
    "    if item == 10:\n",
    "        print('Finished')\n",
    "        logging.info('Finished')\n",
    "        \n",
    "    logging.info('~ Fin ~')\n",
    "\n",
    "if __name__ == '__main__':\n",
    "    main()        "
   ]
  },
  {
   "cell_type": "markdown",
   "metadata": {},
   "source": [
    "#### Use logging levels.\n",
    "\n",
    "| Level | # |\n",
    "|:---:|:---:|\n",
    "| Critical | 50|\n",
    "| Error | 40 |\n",
    "| Warning | 30 |\n",
    "| Info | 20 |\n",
    "| Debug | 10 |\n",
    "| Notset | 0 |"
   ]
  },
  {
   "cell_type": "code",
   "execution_count": null,
   "metadata": {},
   "outputs": [],
   "source": [
    "import logging\n",
    "\n",
    "def main():\n",
    "    logging.basicConfig(filename='sample.log',\n",
    "                        level=logging.INFO)\n",
    "    \n",
    "    logging.info('Start looping...')\n",
    "    for item in range(10):\n",
    "        item += 1\n",
    "        logging.debug(f'item = {item}')\n",
    "    logging.debug('...end looping.')\n",
    "    \n",
    "    if item == 10:\n",
    "        print('Finished')\n",
    "        logging.debug('Finished')\n",
    "        \n",
    "    logging.info('~ Fin ~')\n",
    "\n",
    "if __name__ == '__main__':\n",
    "    main()"
   ]
  },
  {
   "cell_type": "markdown",
   "metadata": {},
   "source": [
    "### Too much logging..."
   ]
  },
  {
   "cell_type": "code",
   "execution_count": null,
   "metadata": {
    "collapsed": true
   },
   "outputs": [],
   "source": [
    "with open('list_of_numbers.txt', 'w') as f:\n",
    "    for i in range(1, 200000):\n",
    "        f.write(f'{i},')"
   ]
  },
  {
   "cell_type": "code",
   "execution_count": null,
   "metadata": {},
   "outputs": [],
   "source": [
    "def broken_sum():\n",
    "    results = []\n",
    "    with open('list_of_numbers.txt') as f:\n",
    "        for number in f:\n",
    "            results.append(number)\n",
    "\n",
    "    print(f'The sum is {sum(results)}')\n",
    "\n",
    "broken_sum()"
   ]
  },
  {
   "cell_type": "code",
   "execution_count": null,
   "metadata": {},
   "outputs": [],
   "source": [
    "def still_broken_sum():\n",
    "    results = []\n",
    "    with open('list_of_numbers.txt') as f:\n",
    "        for number in f:\n",
    "            print(number)\n",
    "            results.append(number)\n",
    "\n",
    "    print(f'The sum is {sum(results)}')\n",
    "\n",
    "still_broken_sum()"
   ]
  },
  {
   "cell_type": "markdown",
   "metadata": {},
   "source": [
    "## Debugging\n",
    "\n",
    "* `$ python -m pbd file_name.py`\n",
    "* `import pdb; pdb.set_trace()`"
   ]
  },
  {
   "cell_type": "code",
   "execution_count": null,
   "metadata": {},
   "outputs": [],
   "source": [
    "\n",
    "\n",
    "def debug_sum():\n",
    "    results = []\n",
    "    with open('list_of_numbers.txt') as f:\n",
    "        import pdb; pdb.set_trace()\n",
    "        for number in f:\n",
    "            results.append(number)\n",
    "\n",
    "    print(f'The sum is {sum(results)}')\n",
    "\n",
    "debug_sum()"
   ]
  },
  {
   "cell_type": "markdown",
   "metadata": {},
   "source": [
    "### Catching Errors"
   ]
  },
  {
   "cell_type": "code",
   "execution_count": null,
   "metadata": {},
   "outputs": [],
   "source": [
    "\n",
    "\n",
    "def sum_all_the_things():\n",
    "    results = []\n",
    "    import pdb; pdb.set_trace()\n",
    "    with open('list_of_numbers.txt') as f:\n",
    "        for number in f:\n",
    "            try:\n",
    "                results.append(number)\n",
    "            except ValueError:\n",
    "                pass\n",
    "            \n",
    "    print(f'The sum is {sum(results)}')\n",
    "\n",
    "sum_all_the_things()"
   ]
  },
  {
   "cell_type": "markdown",
   "metadata": {},
   "source": [
    "### pdb Commands\n",
    "\n",
    "* `commands<breakpoint number>`\n",
    "* `args` to display arguments\n",
    "* `bt` and `where` show the stace trace\n",
    "* (`c`)ontinue through script\n",
    "* move (`u`)p and (`d`)own the stack\n",
    "* run the (`n`)ext line of code\n",
    "* (`s`)tep into a function (if possible)"
   ]
  },
  {
   "cell_type": "markdown",
   "metadata": {},
   "source": [
    "#### Conditional breakpoint\n",
    "\n",
    "* may be disabled\n",
    "* may be deleted"
   ]
  },
  {
   "cell_type": "markdown",
   "metadata": {},
   "source": [
    "### pdb++\n",
    "\n",
    "* Overlays pdb, still use `pdb` the normal way."
   ]
  },
  {
   "cell_type": "markdown",
   "metadata": {},
   "source": [
    "# References\n",
    "\n",
    "* Logging:\n",
    "    * [Python Documentation](https://docs.python.org/3/library/logging.html?highlight=logging#module-logging)\n",
    "    * [Python Module of the Week](https://pymotw.com/3/logging/index.html)\n",
    "    \n",
    "* `pdb` Debugger:\n",
    "    * [Python Documentation](https://docs.python.org/3/library/pdb.html?highlight=pdb#module-pdb)\n",
    "    * [Python Module of the Week](https://pymotw.com/3/pdb/index.html)\n",
    "    * [Cheatsheet](https://github.com/nblock/pdb-cheatsheet)\n",
    "\n",
    "* `pdb++` Debugger:\n",
    "    * [GitHub Page](https://github.com/antocuni/pdb)\n",
    "    * [a little post](http://ixday.github.io/post/pdbpp/)"
   ]
  },
  {
   "cell_type": "markdown",
   "metadata": {},
   "source": [
    "&nbsp;\n",
    "\n",
    "---\n",
    "\n",
    "# Questions"
   ]
  }
 ],
 "metadata": {
  "kernelspec": {
   "display_name": "Python 3",
   "language": "python",
   "name": "python3"
  },
  "language_info": {
   "codemirror_mode": {
    "name": "ipython",
    "version": 3
   },
   "file_extension": ".py",
   "mimetype": "text/x-python",
   "name": "python",
   "nbconvert_exporter": "python",
   "pygments_lexer": "ipython3",
   "version": "3.6.2"
  }
 },
 "nbformat": 4,
 "nbformat_minor": 2
}
