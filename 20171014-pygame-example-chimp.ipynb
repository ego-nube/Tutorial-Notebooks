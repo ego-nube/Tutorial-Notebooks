{
 "cells": [
  {
   "cell_type": "code",
   "execution_count": 1,
   "metadata": {},
   "outputs": [],
   "source": [
    "import inspect, os, sys\n",
    "import pygame\n",
    "from pygame.locals import *"
   ]
  },
  {
   "cell_type": "code",
   "execution_count": 2,
   "metadata": {},
   "outputs": [
    {
     "data": {
      "text/plain": [
       "'/home/r/_Notebooks'"
      ]
     },
     "execution_count": 2,
     "metadata": {},
     "output_type": "execute_result"
    }
   ],
   "source": [
    "os.getcwd()"
   ]
  },
  {
   "cell_type": "code",
   "execution_count": 3,
   "metadata": {},
   "outputs": [
    {
     "name": "stdout",
     "output_type": "stream",
     "text": [
      "<ipython-input-3-37c1761203f9>\n",
      "/home/r/_Notebooks\n"
     ]
    }
   ],
   "source": [
    "print(inspect.getfile(inspect.currentframe()))\n",
    "print(os.path.split(os.path.abspath(inspect.getfile(inspect.currentframe())))[0])"
   ]
  },
  {
   "cell_type": "code",
   "execution_count": 4,
   "metadata": {},
   "outputs": [],
   "source": [
    "main_dir = os.path.split(os.path.abspath(inspect.getfile(inspect.currentframe())))[0]\n",
    "data_dir = os.path.join(main_dir, 'data')\n",
    "\n",
    "#functions to create our resources\n",
    "def load_image(name, colorkey=None):\n",
    "    fullname = os.path.join(data_dir, name)\n",
    "    try:\n",
    "        image = pygame.image.load(fullname)\n",
    "    except pygame.error:\n",
    "        print ('Cannot load image:', fullname)\n",
    "        raise SystemExit(str(geterror()))\n",
    "    image = image.convert()\n",
    "    if colorkey is not None:\n",
    "        if colorkey is -1:\n",
    "            colorkey = image.get_at((0,0))\n",
    "        image.set_colorkey(colorkey, RLEACCEL)\n",
    "    return image, image.get_rect()\n",
    "\n",
    "def load_sound(name):\n",
    "    class NoneSound:\n",
    "        def play(self): pass\n",
    "    if not pygame.mixer or not pygame.mixer.get_init():\n",
    "        return NoneSound()\n",
    "    fullname = os.path.join(data_dir, name)\n",
    "    try:\n",
    "        sound = pygame.mixer.Sound(fullname)\n",
    "    except pygame.error:\n",
    "        print ('Cannot load sound: %s' % fullname)\n",
    "        raise SystemExit(str(geterror()))\n",
    "    return sound\n"
   ]
  },
  {
   "cell_type": "code",
   "execution_count": 5,
   "metadata": {},
   "outputs": [],
   "source": [
    "#classes for our game objects\n",
    "class Fist(pygame.sprite.Sprite):\n",
    "    \"\"\"moves a clenched fist on the screen, following the mouse\"\"\"\n",
    "    def __init__(self):\n",
    "        pygame.sprite.Sprite.__init__(self) #call Sprite initializer\n",
    "        self.image, self.rect = load_image('fist.png', -1)\n",
    "        self.punching = 0\n",
    "\n",
    "    def update(self):\n",
    "        \"move the fist based on the mouse position\"\n",
    "        pos = pygame.mouse.get_pos()\n",
    "        self.rect.midtop = pos\n",
    "        if self.punching:\n",
    "            self.rect.move_ip(5, 10)\n",
    "\n",
    "    def punch(self, target):\n",
    "        \"returns true if the fist collides with the target\"\n",
    "        if not self.punching:\n",
    "            self.punching = 1\n",
    "            hitbox = self.rect.inflate(-5, -5)\n",
    "            return hitbox.colliderect(target.rect)\n",
    "\n",
    "    def unpunch(self):\n",
    "        \"called to pull the fist back\"\n",
    "        self.punching = 0\n",
    "\n",
    "\n",
    "class Chimp(pygame.sprite.Sprite):\n",
    "    \"\"\"moves a monkey critter across the screen. it can spin the\n",
    "       monkey when it is punched.\"\"\"\n",
    "    def __init__(self):\n",
    "        pygame.sprite.Sprite.__init__(self) #call Sprite intializer\n",
    "        self.image, self.rect = load_image('chimp.png', -1)\n",
    "        screen = pygame.display.get_surface()\n",
    "        self.area = screen.get_rect()\n",
    "        self.rect.topleft = 10, 10\n",
    "        self.move = 9\n",
    "        self.dizzy = 0\n",
    "\n",
    "    def update(self):\n",
    "        \"walk or spin, depending on the monkeys state\"\n",
    "        if self.dizzy:\n",
    "            self._spin()\n",
    "        else:\n",
    "            self._walk()\n",
    "\n",
    "    def _walk(self):\n",
    "        \"move the monkey across the screen, and turn at the ends\"\n",
    "        newpos = self.rect.move((self.move, 0))\n",
    "        if self.rect.left < self.area.left or \\\n",
    "            self.rect.right > self.area.right:\n",
    "            self.move = -self.move\n",
    "            newpos = self.rect.move((self.move, 0))\n",
    "            self.image = pygame.transform.flip(self.image, 1, 0)\n",
    "        self.rect = newpos\n",
    "\n",
    "    def _spin(self):\n",
    "        \"spin the monkey image\"\n",
    "        center = self.rect.center\n",
    "        self.dizzy = self.dizzy + 12\n",
    "        if self.dizzy >= 360:\n",
    "            self.dizzy = 0\n",
    "            self.image = self.original\n",
    "        else:\n",
    "            rotate = pygame.transform.rotate\n",
    "            self.image = rotate(self.original, self.dizzy)\n",
    "        self.rect = self.image.get_rect(center=center)\n",
    "\n",
    "    def punched(self):\n",
    "        \"this will cause the monkey to start spinning\"\n",
    "        if not self.dizzy:\n",
    "            self.dizzy = 1\n",
    "            self.original = self.image\n"
   ]
  },
  {
   "cell_type": "code",
   "execution_count": 6,
   "metadata": {},
   "outputs": [],
   "source": [
    "def main():\n",
    "    \"\"\"this function is called when the program starts.\n",
    "       it initializes everything it needs, then runs in\n",
    "       a loop until the function returns.\"\"\"\n",
    "#Initialize Everything\n",
    "    pygame.init()\n",
    "    screen = pygame.display.set_mode((468, 60))\n",
    "    pygame.display.set_caption('Monkey Fever')\n",
    "    pygame.mouse.set_visible(0)\n",
    "\n",
    "#Create The Backgound\n",
    "    background = pygame.Surface(screen.get_size())\n",
    "    background = background.convert()\n",
    "    background.fill((250, 250, 250))\n",
    "\n",
    "#Put Text On The Background, Centered\n",
    "    if pygame.font:\n",
    "        font = pygame.font.Font(None, 36)\n",
    "        text = font.render(\"Pummel The Chimp, And Win $$$\", 1, (10, 10, 10))\n",
    "        textpos = text.get_rect(centerx=background.get_width()/2)\n",
    "        background.blit(text, textpos)\n",
    "\n",
    "#Display The Background\n",
    "    screen.blit(background, (0, 0))\n",
    "    pygame.display.flip()\n",
    "\n",
    "#Prepare Game Objects\n",
    "    clock = pygame.time.Clock()\n",
    "    whiff_sound = load_sound('whiff.wav')\n",
    "    punch_sound = load_sound('punch.wav')\n",
    "    chimp = Chimp()\n",
    "    fist = Fist()\n",
    "    allsprites = pygame.sprite.RenderPlain((fist, chimp))\n",
    "\n",
    "\n",
    "#Main Loop\n",
    "    going = True\n",
    "    while going:\n",
    "        clock.tick(60)\n",
    "\n",
    "        #Handle Input Events\n",
    "        for event in pygame.event.get():\n",
    "            if event.type == QUIT:\n",
    "                going = False\n",
    "            elif event.type == KEYDOWN and event.key == K_ESCAPE:\n",
    "                going = False\n",
    "            elif event.type == MOUSEBUTTONDOWN:\n",
    "                if fist.punch(chimp):\n",
    "                    punch_sound.play() #punch\n",
    "                    chimp.punched()\n",
    "                else:\n",
    "                    whiff_sound.play() #miss\n",
    "            elif event.type == MOUSEBUTTONUP:\n",
    "                fist.unpunch()\n",
    "\n",
    "        allsprites.update()\n",
    "\n",
    "        #Draw Everything\n",
    "        screen.blit(background, (0, 0))\n",
    "        allsprites.draw(screen)\n",
    "        pygame.display.flip()\n",
    "\n",
    "    pygame.quit()\n",
    "    #Game Over"
   ]
  },
  {
   "cell_type": "code",
   "execution_count": 7,
   "metadata": {},
   "outputs": [],
   "source": [
    "#this calls the 'main' function when this script is executed\n",
    "if __name__ == '__main__':\n",
    "    main()"
   ]
  },
  {
   "cell_type": "code",
   "execution_count": null,
   "metadata": {},
   "outputs": [],
   "source": []
  }
 ],
 "metadata": {
  "kernelspec": {
   "display_name": "Python 3",
   "language": "python",
   "name": "python3"
  },
  "language_info": {
   "codemirror_mode": {
    "name": "ipython",
    "version": 3
   },
   "file_extension": ".py",
   "mimetype": "text/x-python",
   "name": "python",
   "nbconvert_exporter": "python",
   "pygments_lexer": "ipython3",
   "version": "3.6.2"
  }
 },
 "nbformat": 4,
 "nbformat_minor": 2
}
